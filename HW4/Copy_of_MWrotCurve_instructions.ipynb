{
  "nbformat": 4,
  "nbformat_minor": 0,
  "metadata": {
    "kernelspec": {
      "display_name": "Python 3",
      "language": "python",
      "name": "python3"
    },
    "language_info": {
      "codemirror_mode": {
        "name": "ipython",
        "version": 3
      },
      "file_extension": ".py",
      "mimetype": "text/x-python",
      "name": "python",
      "nbconvert_exporter": "python",
      "pygments_lexer": "ipython3",
      "version": "3.6.7"
    },
    "nbTranslate": {
      "displayLangs": [
        "*"
      ],
      "hotkey": "alt-t",
      "langInMainMenu": true,
      "sourceLang": "en",
      "targetLang": "fr",
      "useGoogleTranslate": true
    },
    "toc": {
      "base_numbering": 1,
      "colors": {
        "hover_highlight": "#DAA520",
        "running_highlight": "#FF0000",
        "selected_highlight": "#FFD700"
      },
      "moveMenuLeft": true,
      "nav_menu": {},
      "navigate_menu": true,
      "number_sections": true,
      "sideBar": true,
      "skip_h1_title": false,
      "threshold": 4,
      "title_cell": "Table of Contents",
      "title_sidebar": "Contents",
      "toc_cell": false,
      "toc_position": {
        "height": "calc(100% - 180px)",
        "left": "10px",
        "top": "150px",
        "width": "165px"
      },
      "toc_section_display": true,
      "toc_window_display": true
    },
    "colab": {
      "provenance": [],
      "collapsed_sections": [
        "6me5k4c1OdDY"
      ],
      "include_colab_link": true
    }
  },
  "cells": [
    {
      "cell_type": "markdown",
      "metadata": {
        "id": "view-in-github",
        "colab_type": "text"
      },
      "source": [
        "<a href=\"https://colab.research.google.com/github/zberis/DSPS_ZBeris/blob/main/HW4/Copy_of_MWrotCurve_instructions.ipynb\" target=\"_parent\"><img src=\"https://colab.research.google.com/assets/colab-badge.svg\" alt=\"Open In Colab\"/></a>"
      ]
    },
    {
      "cell_type": "markdown",
      "metadata": {
        "run_control": {
          "frozen": false,
          "read_only": false
        },
        "id": "rxa6Xa3jOdCI"
      },
      "source": [
        "prepared by federica b bianco @fedhere\n",
        "for UDel DSPS PHYS 461/661\n",
        "\n",
        "# testing the \"significance\" of Dark Matter"
      ]
    },
    {
      "cell_type": "code",
      "metadata": {
        "ExecuteTime": {
          "end_time": "2019-09-16T17:54:57.244596Z",
          "start_time": "2019-09-16T17:54:57.231090Z"
        },
        "run_control": {
          "frozen": false,
          "read_only": false
        },
        "id": "Ya2RaOGbOdCJ"
      },
      "source": [
        "...\n",
        "\n",
        "#package I will use for constants and units conversion\n",
        "import astropy\n",
        "from astropy.constants import G\n",
        "import pandas as pd\n",
        "import numpy as np\n",
        "import matplotlib.pyplot as plt\n",
        "from astropy import units as u\n",
        "#package used to display latex formuale\n",
        "from IPython.display import Latex\n",
        "\n"
      ],
      "execution_count": 133,
      "outputs": []
    },
    {
      "cell_type": "markdown",
      "metadata": {
        "id": "4qp8A2TG1Gwb"
      },
      "source": [
        "In 1970 Vera Rubin published a seminal paper: she measured the rotational speed of HII regions in several galaxies and how it changed as a function of distance to the center of the galaxy. If we believe Newtonian gravity (or GR for that matter) we expect that _once all of the mass is included_, i.e. at a radius distance from the center of the galaxy larger than the radius of the galaxy itself, the rotational speed will be proportional to $v^2\\propto\\frac{1}{r}$\n",
        "\n",
        "You will use astropy in this exercise, a popular and powerfull package for astrophysical analysis in python. One of the most interesting and unique characteristics of astropy is that it allows treatment of units. When you have a quantity (say `x=3`) in python you can express it with the appropriate units (say meters) as `x=3 * u.meter`"
      ]
    },
    {
      "cell_type": "code",
      "source": [
        "#example\n",
        "x = 3\n",
        "x"
      ],
      "metadata": {
        "id": "hxiNEw-B_1IS",
        "outputId": "1e6d2280-eb8f-48b3-ebd4-2beb9438efdb",
        "colab": {
          "base_uri": "https://localhost:8080/"
        }
      },
      "execution_count": 134,
      "outputs": [
        {
          "output_type": "execute_result",
          "data": {
            "text/plain": [
              "3"
            ]
          },
          "metadata": {},
          "execution_count": 134
        }
      ]
    },
    {
      "cell_type": "code",
      "source": [
        "# note : by PEP8 standards the import should be at the top, I leave it here for hyou to see that I am using astropy.units now for visibility. Please move it to the top cell\n",
        "from astropy import units as u\n",
        "x_in_m = x * u.meter\n",
        "x_in_m"
      ],
      "metadata": {
        "id": "UEyApnDPAH0s",
        "outputId": "f96174c6-d410-417b-acbe-f8bddd931def",
        "colab": {
          "base_uri": "https://localhost:8080/",
          "height": 37
        }
      },
      "execution_count": 135,
      "outputs": [
        {
          "output_type": "execute_result",
          "data": {
            "text/plain": [
              "<Quantity 3. m>"
            ],
            "text/latex": "$3 \\; \\mathrm{m}$"
          },
          "metadata": {},
          "execution_count": 135
        }
      ]
    },
    {
      "cell_type": "markdown",
      "source": [
        "once the quantities have units they can be converted with astropy methods: e.g."
      ],
      "metadata": {
        "id": "Q4E5uRybAcjF"
      }
    },
    {
      "cell_type": "code",
      "source": [
        "x_in_km = x_in_m.to(u.kilometer)\n",
        "x_in_km"
      ],
      "metadata": {
        "id": "e0V9u5kRAgML",
        "outputId": "b99a2c0d-8d3f-4721-bc33-aec2643cfcde",
        "colab": {
          "base_uri": "https://localhost:8080/",
          "height": 37
        }
      },
      "execution_count": 136,
      "outputs": [
        {
          "output_type": "execute_result",
          "data": {
            "text/plain": [
              "<Quantity 0.003 km>"
            ],
            "text/latex": "$0.003 \\; \\mathrm{km}$"
          },
          "metadata": {},
          "execution_count": 136
        }
      ]
    },
    {
      "cell_type": "markdown",
      "metadata": {
        "run_control": {
          "frozen": false,
          "read_only": false
        },
        "id": "j-BDrNseOdCR"
      },
      "source": [
        "## Propagation of  uncertainties rules\n",
        "\n",
        "below are the basic rules for propagation of uncertainties - use [this as reference](https://github.com/fedhere/DSPS/blob/master/resources/Managing%20Errors%20and%20Uncertainty.pdf)"
      ]
    },
    {
      "cell_type": "markdown",
      "metadata": {
        "id": "4LnLCwYpPYSv"
      },
      "source": []
    },
    {
      "cell_type": "markdown",
      "metadata": {
        "id": "iCrFipBzOzqp"
      },
      "source": [
        "\n",
        "\n",
        "\n",
        "$$\n",
        "\\begin{eqnarray}\n",
        "z = x  \\pm y  ~| & ~  &dz = \\sqrt{dx^2 + dy^2}\n",
        "\\\\\n",
        "z = x * y  ~| & ~& dz = |xy|  \\sqrt{\\left(\\frac{dx}{x}\\right)^2 +\n",
        "                                \\left(\\frac{dy}{y}\\right)^2} \\\\\n",
        "z = x / y  ~| & ~& dz = \\left|\\frac{x}{y}\\right| \\sqrt{\\left(\\frac{dx}{x}\\right)^2 +\n",
        "                                                   \\left(\\frac{dy}{y}\\right)^2} \\\\\n",
        "z = x^n ~| & ~& dz = |n| ~ x^{n-1}  dx \\\\\n",
        "z = \\mathrm{c}x ~| & ~& dz = |\\mathrm{c}| ~dx \\\\\n",
        "z = f(x, y) ~| & ~& dz = \\sqrt{\\left(\\frac{\\partial f}{\\partial x}\\right)^2 dx^2 +\\left(\\frac{\\partial f}{\\partial y}\\right)^2 dy^2} \\\\\n",
        "\\end{eqnarray}\n",
        "$$\n"
      ]
    },
    {
      "cell_type": "markdown",
      "metadata": {
        "run_control": {
          "frozen": false,
          "read_only": false
        },
        "id": "WcF0zlWCOdCX"
      },
      "source": [
        "# let's assume a Newtonian framework:\n",
        "the velocity of a body in orbit depends only on the gravitational field of the mass that attracts it, and we can assume that mass is concentrated in the center of mass  (the geometric center for simplicity) of the system\n",
        "\n",
        "with G the gravitational constant, $r$ the radius, and $m(r)$ the mass contained within that radius we have the orbital velocity $v$:\n"
      ]
    },
    {
      "cell_type": "markdown",
      "metadata": {
        "id": "ZON0DKl5Qm2S"
      },
      "source": [
        "\n",
        "$v^2 = \\frac{G \\cdot m(r)}{r}$\n"
      ]
    },
    {
      "cell_type": "markdown",
      "metadata": {
        "id": "lVfy9lJ21xMT"
      },
      "source": [
        "Assignment: Derive this $v^2 \\propto\\frac{1}{r}$ at different distances from the center of the Galaxy for M31 and the Milky Way from Newron's law $F~=~\\frac{GMm}{r^2}$.\n",
        "\n",
        "Write each formula you use and describe each step in text cells within this notebook.\n",
        "\n",
        "You can use latex to write the formulate(you really just need to know ```\\frac{}``` for the fractions and ```^``` for the powers) and this reference\n",
        "https://www.physicsclassroom.com/calcpad/circgrav"
      ]
    },
    {
      "cell_type": "markdown",
      "source": [
        "<mark> Newton's law of gravitation:\n",
        "$$F_{\\text{grav}} = \\frac{G \\, M \\, m}{r^{2}}$$\n",
        "Centripetal force equation:\n",
        "$$F_{\\text{cent}} = \\frac{m \\, v^{2}}{r}$$\n",
        "Setting $F_{grav}$ to $F_{cent}$:\n",
        "$$\\frac{G \\, M(r) \\, m}{r^{2}} = \\frac{m \\, v^{2}}{r}$$\n",
        "Canceling mass and rearrange:\n",
        "$$v^{2} = \\frac{G \\, M(r)}{r}$$\n",
        "Mass is assumed to be constant so:\n",
        "$$v^{2} = \\frac{G \\, M}{r} \\;\\;\\propto\\;\\;\\frac{1}{r}$$"
      ],
      "metadata": {
        "id": "IkuwfzSwLjMb"
      }
    },
    {
      "cell_type": "markdown",
      "metadata": {
        "run_control": {
          "frozen": false,
          "read_only": false
        },
        "id": "KQAEJtWuOdCb"
      },
      "source": [
        "## M31 rotational curve"
      ]
    },
    {
      "cell_type": "markdown",
      "metadata": {
        "ExecuteTime": {
          "end_time": "2019-08-02T01:34:15.029084Z",
          "start_time": "2019-08-02T01:34:15.026604Z"
        },
        "run_control": {
          "frozen": false,
          "read_only": false
        },
        "id": "BTaXzFYeOdCc"
      },
      "source": [
        "### data ingestion\n",
        "Orignal data in https://academic.oup.com/pasj/article-abstract/67/4/75/1536635?redirectedFrom=fulltext&login=false but I converted it to csv already for you\n",
        "\n",
        "Get the data from the github repository https://github.com/fedhere/DSPS_FBianco/tree/master/HW4 : there are 2 files: mw.csv for the Millky Way and m31.csv for M31,the Andromeda galaxy. Start with M31,  Vera Rubin's original target."
      ]
    },
    {
      "cell_type": "markdown",
      "metadata": {
        "id": "_iFrkUYEV1SS"
      },
      "source": [
        "Note that the data contains 2 types of uncertainties: one significantly smaller than the other. The ```dv``` uncertainty derived by propagating the uncertainty in the measured  wavelength of the HII line. The uncertainty called ```err``` is the remaining error budget. To include all sources combine in quadrature the uncertiainties `dv` and `err` and call that `err_tot` including _all_ sources of uncertainty and not just the uncertainty in measuring the location of the line. Retain both, you will test your hypothesis with each one to see if it matters which uncertainty you choose"
      ]
    },
    {
      "cell_type": "code",
      "metadata": {
        "ExecuteTime": {
          "end_time": "2019-08-02T01:34:33.446619Z",
          "start_time": "2019-08-02T01:34:33.435793Z"
        },
        "run_control": {
          "frozen": false,
          "read_only": false
        },
        "id": "eZ7nr5DROdCd"
      },
      "source": [
        "m31 = pd.read_csv(\"https://raw.githubusercontent.com/fedhere/DSPS_FBianco/refs/heads/main/HW4/m31.csv\")"
      ],
      "execution_count": 137,
      "outputs": []
    },
    {
      "cell_type": "code",
      "metadata": {
        "id": "luL5UrsNQ1M1",
        "colab": {
          "base_uri": "https://localhost:8080/",
          "height": 206
        },
        "outputId": "144be286-dc12-462e-bcaf-5ce8640377f7"
      },
      "source": [
        "#I generated this code with gemini, asking it to rename the columns, and to make the columns into floats.\n",
        "m31.columns = ['r', 'v', 'dv', 'err']\n",
        "m31 = m31.drop(0).reset_index(drop=True)\n",
        "m31['r'] = pd.to_numeric(m31['r']) * u.kpc\n",
        "m31['v'] = pd.to_numeric(m31['v']) * u.km / u.s\n",
        "m31['dv'] = pd.to_numeric(m31['dv']) * u.km / u.s\n",
        "m31['err'] = pd.to_numeric(m31['err']) * u.km / u.s\n",
        "\n",
        "m31[\"err_tot\"] = np.sqrt(m31[\"dv\"]**2 + m31[\"err\"]**2)\n",
        "\n",
        "m31.head()\n"
      ],
      "execution_count": 138,
      "outputs": [
        {
          "output_type": "execute_result",
          "data": {
            "text/plain": [
              "       r        v      dv     err    err_tot\n",
              "0  0.100  183.939   0.000   0.000   0.000000\n",
              "1  0.120  190.710  10.265  12.191  15.937086\n",
              "2  0.144  204.141  22.634  21.808  31.430667\n",
              "3  0.173  207.601   4.573   4.200   6.209052\n",
              "4  0.207  210.188   3.943   3.258   5.114862"
            ],
            "text/html": [
              "\n",
              "  <div id=\"df-1ac47cad-db7d-475a-9e4a-320f9629803e\" class=\"colab-df-container\">\n",
              "    <div>\n",
              "<style scoped>\n",
              "    .dataframe tbody tr th:only-of-type {\n",
              "        vertical-align: middle;\n",
              "    }\n",
              "\n",
              "    .dataframe tbody tr th {\n",
              "        vertical-align: top;\n",
              "    }\n",
              "\n",
              "    .dataframe thead th {\n",
              "        text-align: right;\n",
              "    }\n",
              "</style>\n",
              "<table border=\"1\" class=\"dataframe\">\n",
              "  <thead>\n",
              "    <tr style=\"text-align: right;\">\n",
              "      <th></th>\n",
              "      <th>r</th>\n",
              "      <th>v</th>\n",
              "      <th>dv</th>\n",
              "      <th>err</th>\n",
              "      <th>err_tot</th>\n",
              "    </tr>\n",
              "  </thead>\n",
              "  <tbody>\n",
              "    <tr>\n",
              "      <th>0</th>\n",
              "      <td>0.100</td>\n",
              "      <td>183.939</td>\n",
              "      <td>0.000</td>\n",
              "      <td>0.000</td>\n",
              "      <td>0.000000</td>\n",
              "    </tr>\n",
              "    <tr>\n",
              "      <th>1</th>\n",
              "      <td>0.120</td>\n",
              "      <td>190.710</td>\n",
              "      <td>10.265</td>\n",
              "      <td>12.191</td>\n",
              "      <td>15.937086</td>\n",
              "    </tr>\n",
              "    <tr>\n",
              "      <th>2</th>\n",
              "      <td>0.144</td>\n",
              "      <td>204.141</td>\n",
              "      <td>22.634</td>\n",
              "      <td>21.808</td>\n",
              "      <td>31.430667</td>\n",
              "    </tr>\n",
              "    <tr>\n",
              "      <th>3</th>\n",
              "      <td>0.173</td>\n",
              "      <td>207.601</td>\n",
              "      <td>4.573</td>\n",
              "      <td>4.200</td>\n",
              "      <td>6.209052</td>\n",
              "    </tr>\n",
              "    <tr>\n",
              "      <th>4</th>\n",
              "      <td>0.207</td>\n",
              "      <td>210.188</td>\n",
              "      <td>3.943</td>\n",
              "      <td>3.258</td>\n",
              "      <td>5.114862</td>\n",
              "    </tr>\n",
              "  </tbody>\n",
              "</table>\n",
              "</div>\n",
              "    <div class=\"colab-df-buttons\">\n",
              "\n",
              "  <div class=\"colab-df-container\">\n",
              "    <button class=\"colab-df-convert\" onclick=\"convertToInteractive('df-1ac47cad-db7d-475a-9e4a-320f9629803e')\"\n",
              "            title=\"Convert this dataframe to an interactive table.\"\n",
              "            style=\"display:none;\">\n",
              "\n",
              "  <svg xmlns=\"http://www.w3.org/2000/svg\" height=\"24px\" viewBox=\"0 -960 960 960\">\n",
              "    <path d=\"M120-120v-720h720v720H120Zm60-500h600v-160H180v160Zm220 220h160v-160H400v160Zm0 220h160v-160H400v160ZM180-400h160v-160H180v160Zm440 0h160v-160H620v160ZM180-180h160v-160H180v160Zm440 0h160v-160H620v160Z\"/>\n",
              "  </svg>\n",
              "    </button>\n",
              "\n",
              "  <style>\n",
              "    .colab-df-container {\n",
              "      display:flex;\n",
              "      gap: 12px;\n",
              "    }\n",
              "\n",
              "    .colab-df-convert {\n",
              "      background-color: #E8F0FE;\n",
              "      border: none;\n",
              "      border-radius: 50%;\n",
              "      cursor: pointer;\n",
              "      display: none;\n",
              "      fill: #1967D2;\n",
              "      height: 32px;\n",
              "      padding: 0 0 0 0;\n",
              "      width: 32px;\n",
              "    }\n",
              "\n",
              "    .colab-df-convert:hover {\n",
              "      background-color: #E2EBFA;\n",
              "      box-shadow: 0px 1px 2px rgba(60, 64, 67, 0.3), 0px 1px 3px 1px rgba(60, 64, 67, 0.15);\n",
              "      fill: #174EA6;\n",
              "    }\n",
              "\n",
              "    .colab-df-buttons div {\n",
              "      margin-bottom: 4px;\n",
              "    }\n",
              "\n",
              "    [theme=dark] .colab-df-convert {\n",
              "      background-color: #3B4455;\n",
              "      fill: #D2E3FC;\n",
              "    }\n",
              "\n",
              "    [theme=dark] .colab-df-convert:hover {\n",
              "      background-color: #434B5C;\n",
              "      box-shadow: 0px 1px 3px 1px rgba(0, 0, 0, 0.15);\n",
              "      filter: drop-shadow(0px 1px 2px rgba(0, 0, 0, 0.3));\n",
              "      fill: #FFFFFF;\n",
              "    }\n",
              "  </style>\n",
              "\n",
              "    <script>\n",
              "      const buttonEl =\n",
              "        document.querySelector('#df-1ac47cad-db7d-475a-9e4a-320f9629803e button.colab-df-convert');\n",
              "      buttonEl.style.display =\n",
              "        google.colab.kernel.accessAllowed ? 'block' : 'none';\n",
              "\n",
              "      async function convertToInteractive(key) {\n",
              "        const element = document.querySelector('#df-1ac47cad-db7d-475a-9e4a-320f9629803e');\n",
              "        const dataTable =\n",
              "          await google.colab.kernel.invokeFunction('convertToInteractive',\n",
              "                                                    [key], {});\n",
              "        if (!dataTable) return;\n",
              "\n",
              "        const docLinkHtml = 'Like what you see? Visit the ' +\n",
              "          '<a target=\"_blank\" href=https://colab.research.google.com/notebooks/data_table.ipynb>data table notebook</a>'\n",
              "          + ' to learn more about interactive tables.';\n",
              "        element.innerHTML = '';\n",
              "        dataTable['output_type'] = 'display_data';\n",
              "        await google.colab.output.renderOutput(dataTable, element);\n",
              "        const docLink = document.createElement('div');\n",
              "        docLink.innerHTML = docLinkHtml;\n",
              "        element.appendChild(docLink);\n",
              "      }\n",
              "    </script>\n",
              "  </div>\n",
              "\n",
              "\n",
              "    <div id=\"df-1c78b0d8-8793-4916-be4d-b6fc4c9c7693\">\n",
              "      <button class=\"colab-df-quickchart\" onclick=\"quickchart('df-1c78b0d8-8793-4916-be4d-b6fc4c9c7693')\"\n",
              "                title=\"Suggest charts\"\n",
              "                style=\"display:none;\">\n",
              "\n",
              "<svg xmlns=\"http://www.w3.org/2000/svg\" height=\"24px\"viewBox=\"0 0 24 24\"\n",
              "     width=\"24px\">\n",
              "    <g>\n",
              "        <path d=\"M19 3H5c-1.1 0-2 .9-2 2v14c0 1.1.9 2 2 2h14c1.1 0 2-.9 2-2V5c0-1.1-.9-2-2-2zM9 17H7v-7h2v7zm4 0h-2V7h2v10zm4 0h-2v-4h2v4z\"/>\n",
              "    </g>\n",
              "</svg>\n",
              "      </button>\n",
              "\n",
              "<style>\n",
              "  .colab-df-quickchart {\n",
              "      --bg-color: #E8F0FE;\n",
              "      --fill-color: #1967D2;\n",
              "      --hover-bg-color: #E2EBFA;\n",
              "      --hover-fill-color: #174EA6;\n",
              "      --disabled-fill-color: #AAA;\n",
              "      --disabled-bg-color: #DDD;\n",
              "  }\n",
              "\n",
              "  [theme=dark] .colab-df-quickchart {\n",
              "      --bg-color: #3B4455;\n",
              "      --fill-color: #D2E3FC;\n",
              "      --hover-bg-color: #434B5C;\n",
              "      --hover-fill-color: #FFFFFF;\n",
              "      --disabled-bg-color: #3B4455;\n",
              "      --disabled-fill-color: #666;\n",
              "  }\n",
              "\n",
              "  .colab-df-quickchart {\n",
              "    background-color: var(--bg-color);\n",
              "    border: none;\n",
              "    border-radius: 50%;\n",
              "    cursor: pointer;\n",
              "    display: none;\n",
              "    fill: var(--fill-color);\n",
              "    height: 32px;\n",
              "    padding: 0;\n",
              "    width: 32px;\n",
              "  }\n",
              "\n",
              "  .colab-df-quickchart:hover {\n",
              "    background-color: var(--hover-bg-color);\n",
              "    box-shadow: 0 1px 2px rgba(60, 64, 67, 0.3), 0 1px 3px 1px rgba(60, 64, 67, 0.15);\n",
              "    fill: var(--button-hover-fill-color);\n",
              "  }\n",
              "\n",
              "  .colab-df-quickchart-complete:disabled,\n",
              "  .colab-df-quickchart-complete:disabled:hover {\n",
              "    background-color: var(--disabled-bg-color);\n",
              "    fill: var(--disabled-fill-color);\n",
              "    box-shadow: none;\n",
              "  }\n",
              "\n",
              "  .colab-df-spinner {\n",
              "    border: 2px solid var(--fill-color);\n",
              "    border-color: transparent;\n",
              "    border-bottom-color: var(--fill-color);\n",
              "    animation:\n",
              "      spin 1s steps(1) infinite;\n",
              "  }\n",
              "\n",
              "  @keyframes spin {\n",
              "    0% {\n",
              "      border-color: transparent;\n",
              "      border-bottom-color: var(--fill-color);\n",
              "      border-left-color: var(--fill-color);\n",
              "    }\n",
              "    20% {\n",
              "      border-color: transparent;\n",
              "      border-left-color: var(--fill-color);\n",
              "      border-top-color: var(--fill-color);\n",
              "    }\n",
              "    30% {\n",
              "      border-color: transparent;\n",
              "      border-left-color: var(--fill-color);\n",
              "      border-top-color: var(--fill-color);\n",
              "      border-right-color: var(--fill-color);\n",
              "    }\n",
              "    40% {\n",
              "      border-color: transparent;\n",
              "      border-right-color: var(--fill-color);\n",
              "      border-top-color: var(--fill-color);\n",
              "    }\n",
              "    60% {\n",
              "      border-color: transparent;\n",
              "      border-right-color: var(--fill-color);\n",
              "    }\n",
              "    80% {\n",
              "      border-color: transparent;\n",
              "      border-right-color: var(--fill-color);\n",
              "      border-bottom-color: var(--fill-color);\n",
              "    }\n",
              "    90% {\n",
              "      border-color: transparent;\n",
              "      border-bottom-color: var(--fill-color);\n",
              "    }\n",
              "  }\n",
              "</style>\n",
              "\n",
              "      <script>\n",
              "        async function quickchart(key) {\n",
              "          const quickchartButtonEl =\n",
              "            document.querySelector('#' + key + ' button');\n",
              "          quickchartButtonEl.disabled = true;  // To prevent multiple clicks.\n",
              "          quickchartButtonEl.classList.add('colab-df-spinner');\n",
              "          try {\n",
              "            const charts = await google.colab.kernel.invokeFunction(\n",
              "                'suggestCharts', [key], {});\n",
              "          } catch (error) {\n",
              "            console.error('Error during call to suggestCharts:', error);\n",
              "          }\n",
              "          quickchartButtonEl.classList.remove('colab-df-spinner');\n",
              "          quickchartButtonEl.classList.add('colab-df-quickchart-complete');\n",
              "        }\n",
              "        (() => {\n",
              "          let quickchartButtonEl =\n",
              "            document.querySelector('#df-1c78b0d8-8793-4916-be4d-b6fc4c9c7693 button');\n",
              "          quickchartButtonEl.style.display =\n",
              "            google.colab.kernel.accessAllowed ? 'block' : 'none';\n",
              "        })();\n",
              "      </script>\n",
              "    </div>\n",
              "\n",
              "    </div>\n",
              "  </div>\n"
            ],
            "application/vnd.google.colaboratory.intrinsic+json": {
              "type": "dataframe",
              "variable_name": "m31",
              "summary": "{\n  \"name\": \"m31\",\n  \"rows\": 55,\n  \"fields\": [\n    {\n      \"column\": \"r\",\n      \"properties\": {\n        \"dtype\": \"number\",\n        \"std\": 415.5239040951168,\n        \"min\": 0.1,\n        \"max\": 1887.071,\n        \"num_unique_values\": 55,\n        \"samples\": [\n          28.485,\n          0.249,\n          34.182\n        ],\n        \"semantic_type\": \"\",\n        \"description\": \"\"\n      }\n    },\n    {\n      \"column\": \"v\",\n      \"properties\": {\n        \"dtype\": \"number\",\n        \"std\": 42.79989232732137,\n        \"min\": 121.974,\n        \"max\": 414.942,\n        \"num_unique_values\": 55,\n        \"samples\": [\n          232.335,\n          213.512,\n          233.53\n        ],\n        \"semantic_type\": \"\",\n        \"description\": \"\"\n      }\n    },\n    {\n      \"column\": \"dv\",\n      \"properties\": {\n        \"dtype\": \"number\",\n        \"std\": 49.25479214102135,\n        \"min\": 0.0,\n        \"max\": 147.835,\n        \"num_unique_values\": 55,\n        \"samples\": [\n          16.577,\n          4.218,\n          27.353\n        ],\n        \"semantic_type\": \"\",\n        \"description\": \"\"\n      }\n    },\n    {\n      \"column\": \"err\",\n      \"properties\": {\n        \"dtype\": \"number\",\n        \"std\": 14.876950752158686,\n        \"min\": 0.0,\n        \"max\": 54.11,\n        \"num_unique_values\": 55,\n        \"samples\": [\n          2.106,\n          3.19,\n          3.826\n        ],\n        \"semantic_type\": \"\",\n        \"description\": \"\"\n      }\n    },\n    {\n      \"column\": \"err_tot\",\n      \"properties\": {\n        \"dtype\": \"number\",\n        \"std\": 50.970281870211416,\n        \"min\": 0.0,\n        \"max\": 152.20139700410112,\n        \"num_unique_values\": 55,\n        \"samples\": [\n          16.7102413208188,\n          5.2884424928328375,\n          27.61928465764456\n        ],\n        \"semantic_type\": \"\",\n        \"description\": \"\"\n      }\n    }\n  ]\n}"
            }
          },
          "metadata": {},
          "execution_count": 138
        }
      ]
    },
    {
      "cell_type": "markdown",
      "source": [
        "# exploratory data analysis\n",
        "proceed with at least a few basic exploratory tasks\n",
        "\n",
        "- what is the shape of the dataset?\n",
        "\n",
        "- what are the statistical properties of the dataset? like the mean and variance of each column etc etc? do you remember how to get them with a single python line of code?\n",
        "\n",
        "Look at the mean and the median of each column - what can you say about the distribution based on the comparison of these two numbers?"
      ],
      "metadata": {
        "id": "8nZhqbhvP2UC"
      }
    },
    {
      "cell_type": "code",
      "metadata": {
        "ExecuteTime": {
          "end_time": "2019-08-02T01:35:26.395158Z",
          "start_time": "2019-08-02T01:35:26.373338Z"
        },
        "run_control": {
          "frozen": false,
          "read_only": false
        },
        "id": "QsNRokb1OdCh",
        "colab": {
          "base_uri": "https://localhost:8080/",
          "height": 300
        },
        "outputId": "40d023fb-24fb-4272-a870-4265b0dc8a3c"
      },
      "source": [
        "m31.describe()"
      ],
      "execution_count": 139,
      "outputs": [
        {
          "output_type": "execute_result",
          "data": {
            "text/plain": [
              "                 r           v          dv        err     err_tot\n",
              "count    55.000000   55.000000   55.000000  55.000000   55.000000\n",
              "mean    205.853182  226.079255   55.034818  16.165855   57.781110\n",
              "std     415.523904   42.799892   49.254792  14.876951   50.970282\n",
              "min       0.100000  121.974000    0.000000   0.000000    0.000000\n",
              "25%       1.177000  208.894500   11.945500   3.224000   12.956817\n",
              "50%      13.737000  229.124000   30.697000  12.065000   32.684957\n",
              "75%     161.675000  244.102500   99.980000  23.641000  107.040605\n",
              "max    1887.071000  414.942000  147.835000  54.110000  152.201397"
            ],
            "text/html": [
              "\n",
              "  <div id=\"df-e3f88000-5820-402a-976e-d4ad76d70d94\" class=\"colab-df-container\">\n",
              "    <div>\n",
              "<style scoped>\n",
              "    .dataframe tbody tr th:only-of-type {\n",
              "        vertical-align: middle;\n",
              "    }\n",
              "\n",
              "    .dataframe tbody tr th {\n",
              "        vertical-align: top;\n",
              "    }\n",
              "\n",
              "    .dataframe thead th {\n",
              "        text-align: right;\n",
              "    }\n",
              "</style>\n",
              "<table border=\"1\" class=\"dataframe\">\n",
              "  <thead>\n",
              "    <tr style=\"text-align: right;\">\n",
              "      <th></th>\n",
              "      <th>r</th>\n",
              "      <th>v</th>\n",
              "      <th>dv</th>\n",
              "      <th>err</th>\n",
              "      <th>err_tot</th>\n",
              "    </tr>\n",
              "  </thead>\n",
              "  <tbody>\n",
              "    <tr>\n",
              "      <th>count</th>\n",
              "      <td>55.000000</td>\n",
              "      <td>55.000000</td>\n",
              "      <td>55.000000</td>\n",
              "      <td>55.000000</td>\n",
              "      <td>55.000000</td>\n",
              "    </tr>\n",
              "    <tr>\n",
              "      <th>mean</th>\n",
              "      <td>205.853182</td>\n",
              "      <td>226.079255</td>\n",
              "      <td>55.034818</td>\n",
              "      <td>16.165855</td>\n",
              "      <td>57.781110</td>\n",
              "    </tr>\n",
              "    <tr>\n",
              "      <th>std</th>\n",
              "      <td>415.523904</td>\n",
              "      <td>42.799892</td>\n",
              "      <td>49.254792</td>\n",
              "      <td>14.876951</td>\n",
              "      <td>50.970282</td>\n",
              "    </tr>\n",
              "    <tr>\n",
              "      <th>min</th>\n",
              "      <td>0.100000</td>\n",
              "      <td>121.974000</td>\n",
              "      <td>0.000000</td>\n",
              "      <td>0.000000</td>\n",
              "      <td>0.000000</td>\n",
              "    </tr>\n",
              "    <tr>\n",
              "      <th>25%</th>\n",
              "      <td>1.177000</td>\n",
              "      <td>208.894500</td>\n",
              "      <td>11.945500</td>\n",
              "      <td>3.224000</td>\n",
              "      <td>12.956817</td>\n",
              "    </tr>\n",
              "    <tr>\n",
              "      <th>50%</th>\n",
              "      <td>13.737000</td>\n",
              "      <td>229.124000</td>\n",
              "      <td>30.697000</td>\n",
              "      <td>12.065000</td>\n",
              "      <td>32.684957</td>\n",
              "    </tr>\n",
              "    <tr>\n",
              "      <th>75%</th>\n",
              "      <td>161.675000</td>\n",
              "      <td>244.102500</td>\n",
              "      <td>99.980000</td>\n",
              "      <td>23.641000</td>\n",
              "      <td>107.040605</td>\n",
              "    </tr>\n",
              "    <tr>\n",
              "      <th>max</th>\n",
              "      <td>1887.071000</td>\n",
              "      <td>414.942000</td>\n",
              "      <td>147.835000</td>\n",
              "      <td>54.110000</td>\n",
              "      <td>152.201397</td>\n",
              "    </tr>\n",
              "  </tbody>\n",
              "</table>\n",
              "</div>\n",
              "    <div class=\"colab-df-buttons\">\n",
              "\n",
              "  <div class=\"colab-df-container\">\n",
              "    <button class=\"colab-df-convert\" onclick=\"convertToInteractive('df-e3f88000-5820-402a-976e-d4ad76d70d94')\"\n",
              "            title=\"Convert this dataframe to an interactive table.\"\n",
              "            style=\"display:none;\">\n",
              "\n",
              "  <svg xmlns=\"http://www.w3.org/2000/svg\" height=\"24px\" viewBox=\"0 -960 960 960\">\n",
              "    <path d=\"M120-120v-720h720v720H120Zm60-500h600v-160H180v160Zm220 220h160v-160H400v160Zm0 220h160v-160H400v160ZM180-400h160v-160H180v160Zm440 0h160v-160H620v160ZM180-180h160v-160H180v160Zm440 0h160v-160H620v160Z\"/>\n",
              "  </svg>\n",
              "    </button>\n",
              "\n",
              "  <style>\n",
              "    .colab-df-container {\n",
              "      display:flex;\n",
              "      gap: 12px;\n",
              "    }\n",
              "\n",
              "    .colab-df-convert {\n",
              "      background-color: #E8F0FE;\n",
              "      border: none;\n",
              "      border-radius: 50%;\n",
              "      cursor: pointer;\n",
              "      display: none;\n",
              "      fill: #1967D2;\n",
              "      height: 32px;\n",
              "      padding: 0 0 0 0;\n",
              "      width: 32px;\n",
              "    }\n",
              "\n",
              "    .colab-df-convert:hover {\n",
              "      background-color: #E2EBFA;\n",
              "      box-shadow: 0px 1px 2px rgba(60, 64, 67, 0.3), 0px 1px 3px 1px rgba(60, 64, 67, 0.15);\n",
              "      fill: #174EA6;\n",
              "    }\n",
              "\n",
              "    .colab-df-buttons div {\n",
              "      margin-bottom: 4px;\n",
              "    }\n",
              "\n",
              "    [theme=dark] .colab-df-convert {\n",
              "      background-color: #3B4455;\n",
              "      fill: #D2E3FC;\n",
              "    }\n",
              "\n",
              "    [theme=dark] .colab-df-convert:hover {\n",
              "      background-color: #434B5C;\n",
              "      box-shadow: 0px 1px 3px 1px rgba(0, 0, 0, 0.15);\n",
              "      filter: drop-shadow(0px 1px 2px rgba(0, 0, 0, 0.3));\n",
              "      fill: #FFFFFF;\n",
              "    }\n",
              "  </style>\n",
              "\n",
              "    <script>\n",
              "      const buttonEl =\n",
              "        document.querySelector('#df-e3f88000-5820-402a-976e-d4ad76d70d94 button.colab-df-convert');\n",
              "      buttonEl.style.display =\n",
              "        google.colab.kernel.accessAllowed ? 'block' : 'none';\n",
              "\n",
              "      async function convertToInteractive(key) {\n",
              "        const element = document.querySelector('#df-e3f88000-5820-402a-976e-d4ad76d70d94');\n",
              "        const dataTable =\n",
              "          await google.colab.kernel.invokeFunction('convertToInteractive',\n",
              "                                                    [key], {});\n",
              "        if (!dataTable) return;\n",
              "\n",
              "        const docLinkHtml = 'Like what you see? Visit the ' +\n",
              "          '<a target=\"_blank\" href=https://colab.research.google.com/notebooks/data_table.ipynb>data table notebook</a>'\n",
              "          + ' to learn more about interactive tables.';\n",
              "        element.innerHTML = '';\n",
              "        dataTable['output_type'] = 'display_data';\n",
              "        await google.colab.output.renderOutput(dataTable, element);\n",
              "        const docLink = document.createElement('div');\n",
              "        docLink.innerHTML = docLinkHtml;\n",
              "        element.appendChild(docLink);\n",
              "      }\n",
              "    </script>\n",
              "  </div>\n",
              "\n",
              "\n",
              "    <div id=\"df-0cd9bb2e-1fb4-4acb-9fb1-db0df275d83c\">\n",
              "      <button class=\"colab-df-quickchart\" onclick=\"quickchart('df-0cd9bb2e-1fb4-4acb-9fb1-db0df275d83c')\"\n",
              "                title=\"Suggest charts\"\n",
              "                style=\"display:none;\">\n",
              "\n",
              "<svg xmlns=\"http://www.w3.org/2000/svg\" height=\"24px\"viewBox=\"0 0 24 24\"\n",
              "     width=\"24px\">\n",
              "    <g>\n",
              "        <path d=\"M19 3H5c-1.1 0-2 .9-2 2v14c0 1.1.9 2 2 2h14c1.1 0 2-.9 2-2V5c0-1.1-.9-2-2-2zM9 17H7v-7h2v7zm4 0h-2V7h2v10zm4 0h-2v-4h2v4z\"/>\n",
              "    </g>\n",
              "</svg>\n",
              "      </button>\n",
              "\n",
              "<style>\n",
              "  .colab-df-quickchart {\n",
              "      --bg-color: #E8F0FE;\n",
              "      --fill-color: #1967D2;\n",
              "      --hover-bg-color: #E2EBFA;\n",
              "      --hover-fill-color: #174EA6;\n",
              "      --disabled-fill-color: #AAA;\n",
              "      --disabled-bg-color: #DDD;\n",
              "  }\n",
              "\n",
              "  [theme=dark] .colab-df-quickchart {\n",
              "      --bg-color: #3B4455;\n",
              "      --fill-color: #D2E3FC;\n",
              "      --hover-bg-color: #434B5C;\n",
              "      --hover-fill-color: #FFFFFF;\n",
              "      --disabled-bg-color: #3B4455;\n",
              "      --disabled-fill-color: #666;\n",
              "  }\n",
              "\n",
              "  .colab-df-quickchart {\n",
              "    background-color: var(--bg-color);\n",
              "    border: none;\n",
              "    border-radius: 50%;\n",
              "    cursor: pointer;\n",
              "    display: none;\n",
              "    fill: var(--fill-color);\n",
              "    height: 32px;\n",
              "    padding: 0;\n",
              "    width: 32px;\n",
              "  }\n",
              "\n",
              "  .colab-df-quickchart:hover {\n",
              "    background-color: var(--hover-bg-color);\n",
              "    box-shadow: 0 1px 2px rgba(60, 64, 67, 0.3), 0 1px 3px 1px rgba(60, 64, 67, 0.15);\n",
              "    fill: var(--button-hover-fill-color);\n",
              "  }\n",
              "\n",
              "  .colab-df-quickchart-complete:disabled,\n",
              "  .colab-df-quickchart-complete:disabled:hover {\n",
              "    background-color: var(--disabled-bg-color);\n",
              "    fill: var(--disabled-fill-color);\n",
              "    box-shadow: none;\n",
              "  }\n",
              "\n",
              "  .colab-df-spinner {\n",
              "    border: 2px solid var(--fill-color);\n",
              "    border-color: transparent;\n",
              "    border-bottom-color: var(--fill-color);\n",
              "    animation:\n",
              "      spin 1s steps(1) infinite;\n",
              "  }\n",
              "\n",
              "  @keyframes spin {\n",
              "    0% {\n",
              "      border-color: transparent;\n",
              "      border-bottom-color: var(--fill-color);\n",
              "      border-left-color: var(--fill-color);\n",
              "    }\n",
              "    20% {\n",
              "      border-color: transparent;\n",
              "      border-left-color: var(--fill-color);\n",
              "      border-top-color: var(--fill-color);\n",
              "    }\n",
              "    30% {\n",
              "      border-color: transparent;\n",
              "      border-left-color: var(--fill-color);\n",
              "      border-top-color: var(--fill-color);\n",
              "      border-right-color: var(--fill-color);\n",
              "    }\n",
              "    40% {\n",
              "      border-color: transparent;\n",
              "      border-right-color: var(--fill-color);\n",
              "      border-top-color: var(--fill-color);\n",
              "    }\n",
              "    60% {\n",
              "      border-color: transparent;\n",
              "      border-right-color: var(--fill-color);\n",
              "    }\n",
              "    80% {\n",
              "      border-color: transparent;\n",
              "      border-right-color: var(--fill-color);\n",
              "      border-bottom-color: var(--fill-color);\n",
              "    }\n",
              "    90% {\n",
              "      border-color: transparent;\n",
              "      border-bottom-color: var(--fill-color);\n",
              "    }\n",
              "  }\n",
              "</style>\n",
              "\n",
              "      <script>\n",
              "        async function quickchart(key) {\n",
              "          const quickchartButtonEl =\n",
              "            document.querySelector('#' + key + ' button');\n",
              "          quickchartButtonEl.disabled = true;  // To prevent multiple clicks.\n",
              "          quickchartButtonEl.classList.add('colab-df-spinner');\n",
              "          try {\n",
              "            const charts = await google.colab.kernel.invokeFunction(\n",
              "                'suggestCharts', [key], {});\n",
              "          } catch (error) {\n",
              "            console.error('Error during call to suggestCharts:', error);\n",
              "          }\n",
              "          quickchartButtonEl.classList.remove('colab-df-spinner');\n",
              "          quickchartButtonEl.classList.add('colab-df-quickchart-complete');\n",
              "        }\n",
              "        (() => {\n",
              "          let quickchartButtonEl =\n",
              "            document.querySelector('#df-0cd9bb2e-1fb4-4acb-9fb1-db0df275d83c button');\n",
              "          quickchartButtonEl.style.display =\n",
              "            google.colab.kernel.accessAllowed ? 'block' : 'none';\n",
              "        })();\n",
              "      </script>\n",
              "    </div>\n",
              "\n",
              "    </div>\n",
              "  </div>\n"
            ],
            "application/vnd.google.colaboratory.intrinsic+json": {
              "type": "dataframe",
              "summary": "{\n  \"name\": \"m31\",\n  \"rows\": 8,\n  \"fields\": [\n    {\n      \"column\": \"r\",\n      \"properties\": {\n        \"dtype\": \"number\",\n        \"std\": 639.9645756159855,\n        \"min\": 0.1,\n        \"max\": 1887.071,\n        \"num_unique_values\": 8,\n        \"samples\": [\n          205.8531818181818,\n          13.737,\n          55.0\n        ],\n        \"semantic_type\": \"\",\n        \"description\": \"\"\n      }\n    },\n    {\n      \"column\": \"v\",\n      \"properties\": {\n        \"dtype\": \"number\",\n        \"std\": 120.22012586232157,\n        \"min\": 42.79989232732137,\n        \"max\": 414.942,\n        \"num_unique_values\": 8,\n        \"samples\": [\n          226.07925454545455,\n          229.124,\n          55.0\n        ],\n        \"semantic_type\": \"\",\n        \"description\": \"\"\n      }\n    },\n    {\n      \"column\": \"dv\",\n      \"properties\": {\n        \"dtype\": \"number\",\n        \"std\": 48.00594644705554,\n        \"min\": 0.0,\n        \"max\": 147.835,\n        \"num_unique_values\": 8,\n        \"samples\": [\n          55.034818181818196,\n          30.697,\n          55.0\n        ],\n        \"semantic_type\": \"\",\n        \"description\": \"\"\n      }\n    },\n    {\n      \"column\": \"err\",\n      \"properties\": {\n        \"dtype\": \"number\",\n        \"std\": 21.184814321007977,\n        \"min\": 0.0,\n        \"max\": 55.0,\n        \"num_unique_values\": 8,\n        \"samples\": [\n          16.165854545454547,\n          12.065,\n          55.0\n        ],\n        \"semantic_type\": \"\",\n        \"description\": \"\"\n      }\n    },\n    {\n      \"column\": \"err_tot\",\n      \"properties\": {\n        \"dtype\": \"number\",\n        \"std\": 49.81164970623109,\n        \"min\": 0.0,\n        \"max\": 152.20139700410112,\n        \"num_unique_values\": 8,\n        \"samples\": [\n          57.781109974996404,\n          32.684957304546074,\n          55.0\n        ],\n        \"semantic_type\": \"\",\n        \"description\": \"\"\n      }\n    }\n  ]\n}"
            }
          },
          "metadata": {},
          "execution_count": 139
        }
      ]
    },
    {
      "cell_type": "code",
      "source": [
        "print(\"Median\")\n",
        "display(m31.median())\n",
        "print(\"Mean\")\n",
        "display(m31.mean())\n",
        "print(m31.shape)"
      ],
      "metadata": {
        "colab": {
          "base_uri": "https://localhost:8080/",
          "height": 517
        },
        "id": "yqWlPonBI0fA",
        "outputId": "5015e573-4796-4384-aec7-6279539cd078"
      },
      "execution_count": 140,
      "outputs": [
        {
          "output_type": "stream",
          "name": "stdout",
          "text": [
            "Median\n"
          ]
        },
        {
          "output_type": "display_data",
          "data": {
            "text/plain": [
              "r           13.737000\n",
              "v          229.124000\n",
              "dv          30.697000\n",
              "err         12.065000\n",
              "err_tot     32.684957\n",
              "dtype: float64"
            ],
            "text/html": [
              "<div>\n",
              "<style scoped>\n",
              "    .dataframe tbody tr th:only-of-type {\n",
              "        vertical-align: middle;\n",
              "    }\n",
              "\n",
              "    .dataframe tbody tr th {\n",
              "        vertical-align: top;\n",
              "    }\n",
              "\n",
              "    .dataframe thead th {\n",
              "        text-align: right;\n",
              "    }\n",
              "</style>\n",
              "<table border=\"1\" class=\"dataframe\">\n",
              "  <thead>\n",
              "    <tr style=\"text-align: right;\">\n",
              "      <th></th>\n",
              "      <th>0</th>\n",
              "    </tr>\n",
              "  </thead>\n",
              "  <tbody>\n",
              "    <tr>\n",
              "      <th>r</th>\n",
              "      <td>13.737000</td>\n",
              "    </tr>\n",
              "    <tr>\n",
              "      <th>v</th>\n",
              "      <td>229.124000</td>\n",
              "    </tr>\n",
              "    <tr>\n",
              "      <th>dv</th>\n",
              "      <td>30.697000</td>\n",
              "    </tr>\n",
              "    <tr>\n",
              "      <th>err</th>\n",
              "      <td>12.065000</td>\n",
              "    </tr>\n",
              "    <tr>\n",
              "      <th>err_tot</th>\n",
              "      <td>32.684957</td>\n",
              "    </tr>\n",
              "  </tbody>\n",
              "</table>\n",
              "</div><br><label><b>dtype:</b> float64</label>"
            ]
          },
          "metadata": {}
        },
        {
          "output_type": "stream",
          "name": "stdout",
          "text": [
            "Mean\n"
          ]
        },
        {
          "output_type": "display_data",
          "data": {
            "text/plain": [
              "r          205.853182\n",
              "v          226.079255\n",
              "dv          55.034818\n",
              "err         16.165855\n",
              "err_tot     57.781110\n",
              "dtype: float64"
            ],
            "text/html": [
              "<div>\n",
              "<style scoped>\n",
              "    .dataframe tbody tr th:only-of-type {\n",
              "        vertical-align: middle;\n",
              "    }\n",
              "\n",
              "    .dataframe tbody tr th {\n",
              "        vertical-align: top;\n",
              "    }\n",
              "\n",
              "    .dataframe thead th {\n",
              "        text-align: right;\n",
              "    }\n",
              "</style>\n",
              "<table border=\"1\" class=\"dataframe\">\n",
              "  <thead>\n",
              "    <tr style=\"text-align: right;\">\n",
              "      <th></th>\n",
              "      <th>0</th>\n",
              "    </tr>\n",
              "  </thead>\n",
              "  <tbody>\n",
              "    <tr>\n",
              "      <th>r</th>\n",
              "      <td>205.853182</td>\n",
              "    </tr>\n",
              "    <tr>\n",
              "      <th>v</th>\n",
              "      <td>226.079255</td>\n",
              "    </tr>\n",
              "    <tr>\n",
              "      <th>dv</th>\n",
              "      <td>55.034818</td>\n",
              "    </tr>\n",
              "    <tr>\n",
              "      <th>err</th>\n",
              "      <td>16.165855</td>\n",
              "    </tr>\n",
              "    <tr>\n",
              "      <th>err_tot</th>\n",
              "      <td>57.781110</td>\n",
              "    </tr>\n",
              "  </tbody>\n",
              "</table>\n",
              "</div><br><label><b>dtype:</b> float64</label>"
            ]
          },
          "metadata": {}
        },
        {
          "output_type": "stream",
          "name": "stdout",
          "text": [
            "(55, 5)\n"
          ]
        }
      ]
    },
    {
      "cell_type": "markdown",
      "source": [
        "<mark> For r, the median is a lot smaller than the mean, which shows that the data has a tail of larger values. For v, the mean and median are the same. For dv, there might be a tail of smaller values because the median is smaller than the mean, and for err, the mean and median are comparable. For err tot, there might be a tial with smaller values."
      ],
      "metadata": {
        "id": "LZzMxVg5I-wP"
      }
    },
    {
      "cell_type": "markdown",
      "source": [
        "Make a histogram of each column of the dataframe and comment on the shape of the distribution in the caption. Remember the axis labels which, when we work with physical quantities, shoudl also state what units are used."
      ],
      "metadata": {
        "id": "ujTxbjRz8FHB"
      }
    },
    {
      "cell_type": "code",
      "source": [
        "#I used gemini to generate this code. My prompt was \"Please generate histograms for each column of the dataframe and include titles and axes labels. \"\n",
        "# Histograms for each column\n",
        "m31.hist(figsize=(10, 8))\n",
        "plt.suptitle('Histograms of M31 Data')\n",
        "plt.tight_layout(rect=[0, 0.03, 1, 0.95], pad=1.5)\n",
        "\n",
        "# Add axis labels and units\n",
        "for i, col in enumerate(m31.columns):\n",
        "    plt.subplot(m31.shape[1] // 2 + m31.shape[1] % 2, 2, i + 1)\n",
        "    if col == 'r':\n",
        "        plt.xlabel('Radius (kpc)')\n",
        "        plt.ylabel('Frequency')\n",
        "    elif col == 'v':\n",
        "        plt.xlabel('Velocity (km/s)')\n",
        "        plt.ylabel('Frequency')\n",
        "    elif col == 'dv':\n",
        "        plt.xlabel('Standard Deviation (km/s)')\n",
        "        plt.ylabel('Frequency')\n",
        "    elif col == 'err':\n",
        "        plt.xlabel('Standard Error (km/s)')\n",
        "        plt.ylabel('Frequency')\n",
        "    elif col == 'err_tot':\n",
        "        plt.xlabel('Total Error (km/s)')\n",
        "        plt.ylabel('Frequency')\n",
        "\n",
        "plt.show()"
      ],
      "metadata": {
        "id": "OPJxdjzt8D5l",
        "colab": {
          "base_uri": "https://localhost:8080/",
          "height": 795
        },
        "outputId": "fbcad973-ddc2-493f-f343-754d09505b51"
      },
      "execution_count": 141,
      "outputs": [
        {
          "output_type": "display_data",
          "data": {
            "text/plain": [
              "<Figure size 1000x800 with 6 Axes>"
            ],
            "image/png": "[encoded data removed]"
          },
          "metadata": {}
        }
      ]
    },
    {
      "cell_type": "markdown",
      "source": [
        "<mark> **Plot Description:** <br>\n",
        "The above plots are histograms for different M31 data. The distributions include radius (in kpc), velocity (in km/s), stndard deviation of the velocity (in km/s), standard err (in km/s) and total error (in km/s). Since they are histograms they are plotted against their quantity in bins. <br>"
      ],
      "metadata": {
        "id": "vNoyrK_GJW9A"
      }
    },
    {
      "cell_type": "markdown",
      "metadata": {
        "run_control": {
          "frozen": false,
          "read_only": false
        },
        "id": "Vv0Ut6vOOdCk"
      },
      "source": [
        "from https://en.wikipedia.org/wiki/Andromeda_Galaxy get the extent of the luminous component of M31 (Andromeda). The distance of the Galaxy multiplied by the angular size will give you this information from basic trigonometry (make sure you convert the units properly, using astropy). Make sure you include the uncertainties! uncertainties in the distance will give you the uncertainty in the size\n",
        "\n",
        "Assume the distance is 778 $\\pm$ 33 kpc\n",
        "   "
      ]
    },
    {
      "cell_type": "code",
      "metadata": {
        "id": "kvIFr6D778ri"
      },
      "source": [
        "d = 778 * u.kpc #kpc\n",
        "d_u = 33 * u.kpc #kpc, pos neg\n",
        "theta_maj = 3.167 * u.deg #aparent size in deg from wiki\n",
        "theta_min = 1.0 * u.deg #theta minor in deg from wiki\n",
        "\n",
        "apparentSizeM31 = 3.167\n",
        "\n",
        "#L = 2Dtan(theta/2)\n",
        "#converting deg to rads\n",
        "theta_maj_r = theta_maj.to(u.rad)\n",
        "theta_min_r = theta_min.to(u.rad)\n",
        "#applying linear size eq, small angle approx.\n",
        "L_maj = d * theta_maj_r / u.rad\n",
        "L_min = d * theta_min_r / u.rad\n",
        "#uncertainty\n",
        "L_maj_u = d_u * theta_maj_r / u.rad\n",
        "L_min_u = d_u * theta_min_r / u.rad"
      ],
      "execution_count": 142,
      "outputs": []
    },
    {
      "cell_type": "code",
      "metadata": {
        "ExecuteTime": {
          "end_time": "2019-08-02T01:35:41.413407Z",
          "start_time": "2019-08-02T01:35:41.408764Z"
        },
        "run_control": {
          "frozen": false,
          "read_only": false
        },
        "id": "tzGNh98hOdCl",
        "colab": {
          "base_uri": "https://localhost:8080/"
        },
        "outputId": "5ea62afe-e491-42fc-fdde-4e00dd806126"
      },
      "source": [
        "# note : by PEP8 standards the import should be at the top, I leave it here for hyou to see that I am using astropy.units now for visibility. Please move it to the top cell\n",
        "m31angS = apparentSizeM31 * u.degree\n",
        "print(\"Angular Size of the visible component of Andromeda: {:.2f}\".format(m31angS.to(u.rad)  ))"
      ],
      "execution_count": 143,
      "outputs": [
        {
          "output_type": "stream",
          "name": "stdout",
          "text": [
            "Angular Size of the visible component of Andromeda: 0.06 rad\n"
          ]
        }
      ]
    },
    {
      "cell_type": "markdown",
      "metadata": {
        "id": "cOw0Y4KNWTOZ"
      },
      "source": [
        "Please make sure you print a sensible number of decimal digits! you have a  number of significant digits set by the number of digit in the info you get from wikipedia and me"
      ]
    },
    {
      "cell_type": "markdown",
      "metadata": {
        "id": "hF2wXZ988QgS"
      },
      "source": [
        "The distance, from Wikipedia, will have an uncertainty. Convert both to kiloparsecs Kpc"
      ]
    },
    {
      "cell_type": "code",
      "metadata": {
        "ExecuteTime": {
          "end_time": "2019-08-02T01:35:42.257553Z",
          "start_time": "2019-08-02T01:35:42.254539Z"
        },
        "run_control": {
          "frozen": false,
          "read_only": false
        },
        "id": "7-nEP6KrOdCo",
        "colab": {
          "base_uri": "https://localhost:8080/"
        },
        "outputId": "01a9ab96-181a-44c5-ba81-ac5af2245a83"
      },
      "source": [
        "..."
      ],
      "execution_count": 144,
      "outputs": [
        {
          "output_type": "execute_result",
          "data": {
            "text/plain": [
              "Ellipsis"
            ]
          },
          "metadata": {},
          "execution_count": 144
        }
      ]
    },
    {
      "cell_type": "markdown",
      "metadata": {
        "id": "_pTXgdTL8jv6"
      },
      "source": [
        "Calculate and print the distance like I printed the angular size.\n",
        "\n",
        "To get the physical size of the visible component of Andromeda you can use simple trigonometry: $y = r * sin(\\alpha) ~ \\sim ~ r \\alpha $ for small angles\n",
        "\n",
        "\n",
        "Print the physical size of the Andromeda galaxy (remember decimal digits, proper formatting etc etc).\n"
      ]
    },
    {
      "cell_type": "code",
      "metadata": {
        "ExecuteTime": {
          "end_time": "2019-08-02T01:35:42.815232Z",
          "start_time": "2019-08-02T01:35:42.810316Z"
        },
        "run_control": {
          "frozen": false,
          "read_only": false
        },
        "id": "0y_V9AuFOdCv",
        "colab": {
          "base_uri": "https://localhost:8080/"
        },
        "outputId": "7a25139b-046a-44c1-a2b1-93d358fd7a4c"
      },
      "source": [
        "...\n",
        "m31Size = L_maj\n",
        "m31SizeError = L_maj_u\n",
        "print(\"Size of the visible component of Andromeda: \" +\n",
        "      r\"{:.0f} +/- {:2.1f}\".format(m31Size, m31SizeError))#, m31SizeError\n"
      ],
      "execution_count": 145,
      "outputs": [
        {
          "output_type": "stream",
          "name": "stdout",
          "text": [
            "Size of the visible component of Andromeda: 43 kpc +/- 1.8 kpc\n"
          ]
        }
      ]
    },
    {
      "cell_type": "markdown",
      "metadata": {
        "run_control": {
          "frozen": false,
          "read_only": false
        },
        "id": "97o52hRhOdCy"
      },
      "source": [
        "### find the first measurement  in your data table that includes all the luminous mass.\n",
        "\n",
        "What is the smallest radius in your data where the luminous mass is completely included and what is the veolcity at that radius?\n",
        "You can do it by broadcasting (see homework 3)"
      ]
    },
    {
      "cell_type": "code",
      "metadata": {
        "ExecuteTime": {
          "end_time": "2019-08-02T02:10:47.943179Z",
          "start_time": "2019-08-02T02:10:47.937541Z"
        },
        "run_control": {
          "frozen": false,
          "read_only": false
        },
        "id": "JF31dWaBOdCz",
        "colab": {
          "base_uri": "https://localhost:8080/"
        },
        "outputId": "a980661e-f417-4836-c25f-916625d159b7"
      },
      "source": [
        "\n",
        "radmin = m31[m31[\"r\"] >= (43 - 1.8)/2]\n",
        "\n",
        "radmin.head()\n",
        "print(radmin.head(1))\n",
        "print(\"The smallest radius is 23.738 kpc and the corresponding velocity is 236.511 km/s\")"
      ],
      "execution_count": 146,
      "outputs": [
        {
          "output_type": "stream",
          "name": "stdout",
          "text": [
            "         r        v      dv   err    err_tot\n",
            "30  23.738  236.511  11.729  1.58  11.834942\n",
            "The smallest radius is 23.738 kpc and the corresponding velocity is 236.511 km/s\n"
          ]
        }
      ]
    },
    {
      "cell_type": "markdown",
      "metadata": {
        "run_control": {
          "frozen": false,
          "read_only": false
        },
        "id": "TVWiU84XOdDA"
      },
      "source": [
        "We expect the velocity to decrease as $1 / \\sqrt{r}$ if all mass is included: the velocity at a radius twice as far as the radius that includes all the mass should be a factor $\\sqrt{2}$ slower, three times as far a factor $\\sqrt{3}$ slower."
      ]
    },
    {
      "cell_type": "markdown",
      "metadata": {
        "id": "b096Ax33SiXl"
      },
      "source": [
        "write a function that\n",
        "\n",
        "1. finds the smallest radius in the dataset that is at least N times the radius of the visible galaxy,\n",
        "\n",
        "2. takes as arguments:\n",
        "    - the data and\n",
        "    - N\n",
        "    - the size of the luminous component of the galaxy\n",
        "\n",
        "2. Returns the value of the radius and its uncertainty and the velocity and its uncertainty"
      ]
    },
    {
      "cell_type": "code",
      "metadata": {
        "ExecuteTime": {
          "end_time": "2019-08-02T02:07:26.053511Z",
          "start_time": "2019-08-02T02:07:26.046677Z"
        },
        "run_control": {
          "frozen": false,
          "read_only": false
        },
        "id": "-_O34Bb7OdC2",
        "colab": {
          "base_uri": "https://localhost:8080/"
        },
        "outputId": "6a36534f-e3ae-42e3-9afb-43eecc816e3b"
      },
      "source": [
        "# first measurement including all mass\n",
        "def getradii(data, N, size):\n",
        "  radi = N * size / 2\n",
        "  smallest = data[data[\"r\"] >= radi].head(1)\n",
        "  small = smallest[\"r\"].min()\n",
        "  vel = smallest[\"v\"].min()\n",
        "  uvel = smallest[\"err_tot\"].min()\n",
        "  uradi = smallest[\"err\"].min()\n",
        "  uvel2 = smallest[\"dv\"].min()\n",
        "  return small, uradi, vel, uvel, uvel2\n",
        "\n",
        "\n",
        "m31Rds = getradii(m31, 1, m31Size)\n",
        "m31Rds\n",
        "print(m31Rds[0])\n",
        "print(m31Rds[3])\n",
        "print(m31Rds[2])\n",
        "print(m31Rds[4])\n",
        "print(m31Size)\n",
        "print(m31Rds)\n"
      ],
      "execution_count": 147,
      "outputs": [
        {
          "output_type": "stream",
          "name": "stdout",
          "text": [
            "23.738\n",
            "11.834941529217623\n",
            "236.511\n",
            "11.729\n",
            "43.0036212254938 kpc\n",
            "(23.738, 1.58, 236.511, 11.834941529217623, 11.729)\n"
          ]
        }
      ]
    },
    {
      "cell_type": "markdown",
      "metadata": {
        "ExecuteTime": {
          "end_time": "2019-08-01T18:13:58.231637Z",
          "start_time": "2019-08-01T18:13:58.229447Z"
        },
        "run_control": {
          "frozen": false,
          "read_only": false
        },
        "id": "ogu_iquzOdC5"
      },
      "source": [
        "### data visualization"
      ]
    },
    {
      "cell_type": "markdown",
      "metadata": {
        "id": "kJ6MujVJUyel"
      },
      "source": [
        "make a plot that shows\n",
        "\n",
        "1. the rotational curve of the galaxy (as a line) (e.g. with `df.plot(...)` if your data is stored as a dataframe `df`) showing the uncertainty dv at each quantity (if using `df.plot()` you can use the argument `yerr`)\n",
        "\n",
        "2. each velocity as an errorbar with error equal to `err_tot` in three different colors of your choice (not black)\n",
        "\n",
        "3. each velocity as an errorbar with error equal to `dv` in black\n",
        "\n",
        "4. the datapoint corresponding to N=1, 2, 3 each in a different color.\n",
        "\n",
        "5. add a legend that indicates the meaning of each color (```pl.legend()```)\n",
        "\n",
        "6. add a text that indicates the velocity and its uncertainty (dv and err) just below the largest errorbar (```pl.text()``` or ```ax.text()``` if you have an axis object)\n",
        "\n",
        "7. limit the x axis to the \"relevant\" portion of the data"
      ]
    },
    {
      "cell_type": "code",
      "source": [
        "def plotGal(gal, rds, Title=\"\", lim=80, log=False):\n",
        "  fig, ax = plt.subplots(dpi = 100)\n",
        "  plt.plot(gal[\"r\"], gal[\"v\"], color = \"tab:blue\", label=\"v\")\n",
        "  plt.errorbar(gal[\"r\"], gal[\"v\"], yerr=gal[\"err_tot\"], color = \"tab:blue\", fmt = \"none\")\n",
        "  plt.plot(getradii(gal, 1, rds)[0], getradii(gal, 1, rds)[2], color=\"orange\", label = \"radius\")\n",
        "  plt.errorbar(getradii(gal, 1, rds)[0], getradii(gal, 1, rds)[2], yerr=getradii(gal, 1, rds)[3], color=\"orange\",fmt=\"none\")\n",
        "  plt.errorbar(getradii(gal, 1, rds)[0], getradii(gal, 1, rds)[2], yerr=getradii(gal, 1, rds)[1], color=\"black\", zorder = 5)\n",
        "  ax.text(getradii(gal, 1, rds)[0], getradii(gal, 1, rds)[2] - 20 - getradii(gal, 1, rds)[3], f\"{getradii(gal, 1, rds)[2]:.1f}\\n({getradii(gal, 1, rds)[3]:.1f}, {getradii(gal, 1, rds)[1]:.1f})\", ha=\"center\", va=\"top\", fontsize=9)\n",
        "  plt.plot(getradii(gal, 2, rds)[0], getradii(gal, 2, rds)[2], color=\"green\", label = \"2xradius\")\n",
        "  plt.errorbar(getradii(gal, 2, rds)[0], getradii(gal, 2, rds)[2], yerr=getradii(gal, 2, rds)[3], color=\"green\", fmt=\"none\")\n",
        "  plt.errorbar(getradii(gal, 2, rds)[0], getradii(gal, 2, rds)[2], yerr=getradii(gal, 2, rds)[1], color=\"black\", zorder = 5)\n",
        "  ax.text(getradii(gal, 2, rds)[0], getradii(gal, 2, rds)[2] - 20 - getradii(gal, 2, rds)[3], f\"{getradii(gal, 2, rds)[2]:.1f}\\n({getradii(gal, 2, rds)[3]:.1f}, {getradii(gal, 2, rds)[1]:.1f})\", ha=\"center\", va=\"top\", fontsize=9)\n",
        "  plt.plot(getradii(gal, 3, rds)[0], getradii(gal, 3, rds)[2], color=\"red\", label = \"3xradius\")\n",
        "  plt.errorbar(getradii(gal, 3, rds)[0], getradii(gal, 3, rds)[2], yerr=getradii(gal, 3, rds)[3], color=\"red\", fmt=\"none\")\n",
        "  plt.errorbar(getradii(gal, 3, rds)[0], getradii(gal, 3, rds)[2], yerr=getradii(gal, 3, rds)[1], color=\"black\", zorder = 5)\n",
        "  ax.text(getradii(gal, 3, rds)[0], getradii(gal, 3, rds)[2] - (20 + getradii(gal, 3, rds)[3]), f\"{getradii(gal, 3, rds)[2]:.1f}\\n({getradii(gal, 3, rds)[3]:.1f}, {getradii(gal, 1, rds)[1]:.1f})\", ha=\"center\", va=\"top\", fontsize=9)\n",
        "  if log: plt.xscale(\"log\")\n",
        "  else:   plt.xlim(0,lim)\n",
        "  plt.title(Title)\n",
        "  plt.legend(loc = \"upper left\")\n",
        "  plt.xlabel(\"Radius (kpc)\")\n",
        "  plt.ylabel(\"Velocity (km/s)\")\n",
        "  plt.show()\n"
      ],
      "metadata": {
        "id": "HXuy4llYooYO"
      },
      "execution_count": 148,
      "outputs": []
    },
    {
      "cell_type": "code",
      "source": [
        "plotGal(m31, m31Size, \"Figure 1: M31 Rotational Curve\")\n",
        "plotGal(m31, m31Size, \"Figure 2: M31 Rotational Curve (log scale)\", 2000, log=True)"
      ],
      "metadata": {
        "colab": {
          "base_uri": "https://localhost:8080/",
          "height": 931
        },
        "id": "0MVVfj3X9cZO",
        "outputId": "a6cb5b66-19bd-4e2b-c879-aa9b5a3cfdfd"
      },
      "execution_count": 149,
      "outputs": [
        {
          "output_type": "display_data",
          "data": {
            "text/plain": [
              "<Figure size 640x480 with 1 Axes>"
            ],
            "image/png": "[encoded data removed]"
          },
          "metadata": {}
        },
        {
          "output_type": "display_data",
          "data": {
            "text/plain": [
              "<Figure size 640x480 with 1 Axes>"
            ],
            "image/png": "[encoded data removed]"
          },
          "metadata": {}
        }
      ]
    },
    {
      "cell_type": "markdown",
      "source": [
        "<mark> Figure 1 shows the radius distribution (kpc) of M31 with the velocity distribution (km/s) of M31. Figure 2 shows the log10 of the radius distribution with the velocity distribution, showing more data points. <br>\n",
        "All vertical lines of blue, yellow, green and red are error bars, centered at data points. The blue error bars are the minimum total errors for each velocity at that radius. The yellow, green, and red errorbars are the total error of the velocity at the 1, 2, and 3 multiple of the M31 radius. The black error bars are the standard error of velocity at these specific radii. <br>\n",
        "We can see that there is a significant difference in value when using the standard error comapred to the total error. The standard error is always smaller than the total error in this data. <br>\n",
        "It is important which error statistic to include when doing astronomical data analysis because formulae that involve velocity can vary greatly due to the error statistic selected."
      ],
      "metadata": {
        "id": "V50CvwOMKKfn"
      }
    },
    {
      "cell_type": "markdown",
      "metadata": {
        "id": "bIbv3YrhTo0X"
      },
      "source": [
        "Write a function that for a given dataset and a given luminous radius and a given N\n",
        "  \n",
        "  1) uses the function above ```getradii``` to find the radius at least as large as needed and the velocity at that radius,\n",
        "  \n",
        "  2) states the expected drop in rotational velocities according to Newton's law $v\\propto 1/\\sqrt{r}$\n",
        "  \n",
        "  3) calculates the ratio of radii and the ratio of velocities at N radii from the center N=1 and N=N (input, e.g. 2, 3 etc) with uncertainties,\n",
        "  \n",
        "  4) and stated whether that ratio is consistent within the uncertainties with Newton's law $v \\propto 1/\\sqrt{r}$\n",
        "  \n",
        "Your function should print\n",
        "\n",
        "     - the expected ratio based on the radii,\n",
        "     - the calculated ratio using ```dv```, and its uncertainty, -\n",
        "     - the 2-$\\sigma$ upper and lower limits of the calculated ratio\n",
        "     - whether the expected ratio is within the $2-\\sigma$ of the calculated ratio,\n",
        "  5) and the same using ```err```  instead of ```dv```"
      ]
    },
    {
      "cell_type": "code",
      "metadata": {
        "ExecuteTime": {
          "end_time": "2019-08-02T02:22:18.485172Z",
          "start_time": "2019-08-02T02:22:18.477807Z"
        },
        "run_control": {
          "frozen": false,
          "read_only": false
        },
        "id": "1hhTw8N4OdDB"
      },
      "source": [
        "\n",
        "def vratios(data, luminousradius, N, err=False):\n",
        "  radii = getradii(data, 1, luminousradius*2)[0]\n",
        "  radiiN = getradii(data, N, luminousradius*2)[0]\n",
        "  vel = getradii(data, 1 , luminousradius*2)[2]\n",
        "  velN = getradii(data, N, luminousradius*2)[2]\n",
        "  uvel = getradii(data, 1, luminousradius*2)[3]\n",
        "  uvelN = getradii(data, N, luminousradius*2)[3]\n",
        "  radiiratio = np.sqrt((radii/radiiN)).item()\n",
        "  velratio = (velN/vel)\n",
        "  sigma = (radiiratio*np.sqrt((uvelN/velN)**2 + (uvel/vel)**2)).item()\n",
        "  sigmaup = radiiratio + sigma\n",
        "  sigmalow = radiiratio - sigma\n",
        "  if err:\n",
        "    if (sigmalow < velratio < sigmaup):\n",
        "      return radiiratio, velratio, sigma, sigmaup, sigmalow, True\n",
        "    else:\n",
        "      return radiiratio, velratio, sigma, sigmaup, sigmalow, False\n",
        "  else:\n",
        "    return radiiratio, velratio\n",
        "  ...\n"
      ],
      "execution_count": 150,
      "outputs": []
    },
    {
      "cell_type": "code",
      "metadata": {
        "ExecuteTime": {
          "end_time": "2019-08-02T02:22:20.233692Z",
          "start_time": "2019-08-02T02:22:20.225631Z"
        },
        "run_control": {
          "frozen": false,
          "read_only": false
        },
        "id": "8TPkTIthOdDI",
        "colab": {
          "base_uri": "https://localhost:8080/"
        },
        "outputId": "ac911c54-c9c1-46b3-bd68-af7824592f7e"
      },
      "source": [
        "print(vratios(m31, m31Rds[0], 1))\n",
        "\n",
        "print(vratios(m31, m31Rds[0], 1, err='err'))"
      ],
      "execution_count": 151,
      "outputs": [
        {
          "output_type": "stream",
          "name": "stdout",
          "text": [
            "(1.0, 1.0)\n",
            "(1.0, 1.0, 0.07076683461028088, 1.0707668346102808, 0.9292331653897191, True)\n"
          ]
        }
      ]
    },
    {
      "cell_type": "code",
      "metadata": {
        "ExecuteTime": {
          "end_time": "2019-08-02T02:22:26.272266Z",
          "start_time": "2019-08-02T02:22:26.263760Z"
        },
        "run_control": {
          "frozen": false,
          "read_only": false
        },
        "id": "XeQoBcM7OdDP",
        "colab": {
          "base_uri": "https://localhost:8080/"
        },
        "outputId": "fb526f87-e312-42c8-8ebe-120716424565"
      },
      "source": [
        "vratios(m31, m31Rds[0], 2)"
      ],
      "execution_count": 152,
      "outputs": [
        {
          "output_type": "execute_result",
          "data": {
            "text/plain": [
              "(0.6944523225391628, 1.002359298299022)"
            ]
          },
          "metadata": {},
          "execution_count": 152
        }
      ]
    },
    {
      "cell_type": "code",
      "metadata": {
        "ExecuteTime": {
          "end_time": "2019-08-02T02:24:18.604569Z",
          "start_time": "2019-08-02T02:24:18.596278Z"
        },
        "run_control": {
          "frozen": false,
          "read_only": false
        },
        "id": "Stigi9P_OdDW",
        "colab": {
          "base_uri": "https://localhost:8080/"
        },
        "outputId": "a28bcd94-9628-46c7-e902-57b79b5bfbe9"
      },
      "source": [
        "print(vratios(m31, m31Rds[0], 2, err='err'))"
      ],
      "execution_count": 153,
      "outputs": [
        {
          "output_type": "stream",
          "name": "stdout",
          "text": [
            "(0.6944523225391628, 1.002359298299022, 0.32982293600061746, 1.0242752585397803, 0.3646293865385453, True)\n"
          ]
        }
      ]
    },
    {
      "cell_type": "code",
      "source": [
        "print(vratios(m31, m31Rds[0], 3))\n",
        "print(vratios(m31, m31Rds[0], 3, err='err'))"
      ],
      "metadata": {
        "colab": {
          "base_uri": "https://localhost:8080/"
        },
        "id": "p6PNFqnsMIhB",
        "outputId": "9b2eeddf-b232-41b6-d6be-81de04c4d056"
      },
      "execution_count": 154,
      "outputs": [
        {
          "output_type": "stream",
          "name": "stdout",
          "text": [
            "(0.5282865882623257, 0.873544993678941)\n",
            "(0.5282865882623257, 0.873544993678941, 0.35316128748652614, 0.8814478757488518, 0.17512530077579952, True)\n"
          ]
        }
      ]
    },
    {
      "cell_type": "code",
      "source": [
        "print(vratios(m31, m31Rds[0], 4))\n",
        "print(vratios(m31, m31Rds[0], 4, err='err'))"
      ],
      "metadata": {
        "colab": {
          "base_uri": "https://localhost:8080/"
        },
        "id": "PnEmnrypN0vK",
        "outputId": "8b7de5da-fff6-403d-e191-f762292c0222"
      },
      "execution_count": 155,
      "outputs": [
        {
          "output_type": "stream",
          "name": "stdout",
          "text": [
            "(0.48225557874836705, 0.9006008177209517)\n",
            "(0.48225557874836705, 0.9006008177209517, 0.3080985506875588, 0.7903541294359259, 0.17415702806080824, False)\n"
          ]
        }
      ]
    },
    {
      "cell_type": "markdown",
      "metadata": {
        "ExecuteTime": {
          "end_time": "2019-08-02T00:36:41.637045Z",
          "start_time": "2019-08-02T00:36:41.634825Z"
        },
        "run_control": {
          "frozen": false,
          "read_only": false
        },
        "id": "6me5k4c1OdDY"
      },
      "source": [
        "### Discuss!\n",
        "\n",
        "<mark> The ratio of the velocities compared to the ratio of the radii passes the test for up to 3 times the radius. 4 times the size of the radius does not pass, demonstrating Vera Rubin's point, that there is something off."
      ]
    },
    {
      "cell_type": "markdown",
      "metadata": {
        "run_control": {
          "frozen": false,
          "read_only": false
        },
        "id": "QIHRn8UlOdDZ"
      },
      "source": [
        "## do the same for the Milky Way. If your functions were create properly you should be able to reuse them seamlessly"
      ]
    },
    {
      "cell_type": "code",
      "metadata": {
        "id": "NVp9cJzv-Dic"
      },
      "source": [
        "mw = pd.read_csv(\"https://raw.githubusercontent.com/fedhere/DSPS_FBianco/refs/heads/main/HW4/mw.csv\")"
      ],
      "execution_count": 156,
      "outputs": []
    },
    {
      "cell_type": "code",
      "source": [
        "#I generated this code with gemini, asking it to rename the columns, and to make the columns into floats.\n",
        "mw.columns = ['r', 'v', 'dv', 'err']\n",
        "mw = mw.drop(0).reset_index(drop=True)\n",
        "mw['r'] = pd.to_numeric(mw['r'])\n",
        "mw['v'] = pd.to_numeric(mw['v'])\n",
        "mw['dv'] = pd.to_numeric(mw['dv'])\n",
        "mw['err'] = pd.to_numeric(mw['err'])\n",
        "\n",
        "mw[\"err_tot\"] = np.sqrt(mw[\"dv\"]**2 + mw[\"err\"]**2)\n",
        "\n",
        "mw.head()\n"
      ],
      "metadata": {
        "colab": {
          "base_uri": "https://localhost:8080/",
          "height": 206
        },
        "id": "G0sQW5dqzb7p",
        "outputId": "ceaf2ff0-aa85-420b-b84e-0e14b31208e7"
      },
      "execution_count": 157,
      "outputs": [
        {
          "output_type": "execute_result",
          "data": {
            "text/plain": [
              "       r        v      dv     err    err_tot\n",
              "0  0.010  119.061  41.832  32.714  53.104821\n",
              "1  0.012  115.268  35.199  17.100  39.132846\n",
              "2  0.014  117.392  35.152  14.429  37.998147\n",
              "3  0.017  118.475  35.252  14.870  38.259906\n",
              "4  0.021  110.386  33.817  14.427  36.765851"
            ],
            "text/html": [
              "\n",
              "  <div id=\"df-9a9d9958-f4d8-4a57-a581-cefd811eb2fe\" class=\"colab-df-container\">\n",
              "    <div>\n",
              "<style scoped>\n",
              "    .dataframe tbody tr th:only-of-type {\n",
              "        vertical-align: middle;\n",
              "    }\n",
              "\n",
              "    .dataframe tbody tr th {\n",
              "        vertical-align: top;\n",
              "    }\n",
              "\n",
              "    .dataframe thead th {\n",
              "        text-align: right;\n",
              "    }\n",
              "</style>\n",
              "<table border=\"1\" class=\"dataframe\">\n",
              "  <thead>\n",
              "    <tr style=\"text-align: right;\">\n",
              "      <th></th>\n",
              "      <th>r</th>\n",
              "      <th>v</th>\n",
              "      <th>dv</th>\n",
              "      <th>err</th>\n",
              "      <th>err_tot</th>\n",
              "    </tr>\n",
              "  </thead>\n",
              "  <tbody>\n",
              "    <tr>\n",
              "      <th>0</th>\n",
              "      <td>0.010</td>\n",
              "      <td>119.061</td>\n",
              "      <td>41.832</td>\n",
              "      <td>32.714</td>\n",
              "      <td>53.104821</td>\n",
              "    </tr>\n",
              "    <tr>\n",
              "      <th>1</th>\n",
              "      <td>0.012</td>\n",
              "      <td>115.268</td>\n",
              "      <td>35.199</td>\n",
              "      <td>17.100</td>\n",
              "      <td>39.132846</td>\n",
              "    </tr>\n",
              "    <tr>\n",
              "      <th>2</th>\n",
              "      <td>0.014</td>\n",
              "      <td>117.392</td>\n",
              "      <td>35.152</td>\n",
              "      <td>14.429</td>\n",
              "      <td>37.998147</td>\n",
              "    </tr>\n",
              "    <tr>\n",
              "      <th>3</th>\n",
              "      <td>0.017</td>\n",
              "      <td>118.475</td>\n",
              "      <td>35.252</td>\n",
              "      <td>14.870</td>\n",
              "      <td>38.259906</td>\n",
              "    </tr>\n",
              "    <tr>\n",
              "      <th>4</th>\n",
              "      <td>0.021</td>\n",
              "      <td>110.386</td>\n",
              "      <td>33.817</td>\n",
              "      <td>14.427</td>\n",
              "      <td>36.765851</td>\n",
              "    </tr>\n",
              "  </tbody>\n",
              "</table>\n",
              "</div>\n",
              "    <div class=\"colab-df-buttons\">\n",
              "\n",
              "  <div class=\"colab-df-container\">\n",
              "    <button class=\"colab-df-convert\" onclick=\"convertToInteractive('df-9a9d9958-f4d8-4a57-a581-cefd811eb2fe')\"\n",
              "            title=\"Convert this dataframe to an interactive table.\"\n",
              "            style=\"display:none;\">\n",
              "\n",
              "  <svg xmlns=\"http://www.w3.org/2000/svg\" height=\"24px\" viewBox=\"0 -960 960 960\">\n",
              "    <path d=\"M120-120v-720h720v720H120Zm60-500h600v-160H180v160Zm220 220h160v-160H400v160Zm0 220h160v-160H400v160ZM180-400h160v-160H180v160Zm440 0h160v-160H620v160ZM180-180h160v-160H180v160Zm440 0h160v-160H620v160Z\"/>\n",
              "  </svg>\n",
              "    </button>\n",
              "\n",
              "  <style>\n",
              "    .colab-df-container {\n",
              "      display:flex;\n",
              "      gap: 12px;\n",
              "    }\n",
              "\n",
              "    .colab-df-convert {\n",
              "      background-color: #E8F0FE;\n",
              "      border: none;\n",
              "      border-radius: 50%;\n",
              "      cursor: pointer;\n",
              "      display: none;\n",
              "      fill: #1967D2;\n",
              "      height: 32px;\n",
              "      padding: 0 0 0 0;\n",
              "      width: 32px;\n",
              "    }\n",
              "\n",
              "    .colab-df-convert:hover {\n",
              "      background-color: #E2EBFA;\n",
              "      box-shadow: 0px 1px 2px rgba(60, 64, 67, 0.3), 0px 1px 3px 1px rgba(60, 64, 67, 0.15);\n",
              "      fill: #174EA6;\n",
              "    }\n",
              "\n",
              "    .colab-df-buttons div {\n",
              "      margin-bottom: 4px;\n",
              "    }\n",
              "\n",
              "    [theme=dark] .colab-df-convert {\n",
              "      background-color: #3B4455;\n",
              "      fill: #D2E3FC;\n",
              "    }\n",
              "\n",
              "    [theme=dark] .colab-df-convert:hover {\n",
              "      background-color: #434B5C;\n",
              "      box-shadow: 0px 1px 3px 1px rgba(0, 0, 0, 0.15);\n",
              "      filter: drop-shadow(0px 1px 2px rgba(0, 0, 0, 0.3));\n",
              "      fill: #FFFFFF;\n",
              "    }\n",
              "  </style>\n",
              "\n",
              "    <script>\n",
              "      const buttonEl =\n",
              "        document.querySelector('#df-9a9d9958-f4d8-4a57-a581-cefd811eb2fe button.colab-df-convert');\n",
              "      buttonEl.style.display =\n",
              "        google.colab.kernel.accessAllowed ? 'block' : 'none';\n",
              "\n",
              "      async function convertToInteractive(key) {\n",
              "        const element = document.querySelector('#df-9a9d9958-f4d8-4a57-a581-cefd811eb2fe');\n",
              "        const dataTable =\n",
              "          await google.colab.kernel.invokeFunction('convertToInteractive',\n",
              "                                                    [key], {});\n",
              "        if (!dataTable) return;\n",
              "\n",
              "        const docLinkHtml = 'Like what you see? Visit the ' +\n",
              "          '<a target=\"_blank\" href=https://colab.research.google.com/notebooks/data_table.ipynb>data table notebook</a>'\n",
              "          + ' to learn more about interactive tables.';\n",
              "        element.innerHTML = '';\n",
              "        dataTable['output_type'] = 'display_data';\n",
              "        await google.colab.output.renderOutput(dataTable, element);\n",
              "        const docLink = document.createElement('div');\n",
              "        docLink.innerHTML = docLinkHtml;\n",
              "        element.appendChild(docLink);\n",
              "      }\n",
              "    </script>\n",
              "  </div>\n",
              "\n",
              "\n",
              "    <div id=\"df-6f948747-f00e-4727-8a9d-129106085a6f\">\n",
              "      <button class=\"colab-df-quickchart\" onclick=\"quickchart('df-6f948747-f00e-4727-8a9d-129106085a6f')\"\n",
              "                title=\"Suggest charts\"\n",
              "                style=\"display:none;\">\n",
              "\n",
              "<svg xmlns=\"http://www.w3.org/2000/svg\" height=\"24px\"viewBox=\"0 0 24 24\"\n",
              "     width=\"24px\">\n",
              "    <g>\n",
              "        <path d=\"M19 3H5c-1.1 0-2 .9-2 2v14c0 1.1.9 2 2 2h14c1.1 0 2-.9 2-2V5c0-1.1-.9-2-2-2zM9 17H7v-7h2v7zm4 0h-2V7h2v10zm4 0h-2v-4h2v4z\"/>\n",
              "    </g>\n",
              "</svg>\n",
              "      </button>\n",
              "\n",
              "<style>\n",
              "  .colab-df-quickchart {\n",
              "      --bg-color: #E8F0FE;\n",
              "      --fill-color: #1967D2;\n",
              "      --hover-bg-color: #E2EBFA;\n",
              "      --hover-fill-color: #174EA6;\n",
              "      --disabled-fill-color: #AAA;\n",
              "      --disabled-bg-color: #DDD;\n",
              "  }\n",
              "\n",
              "  [theme=dark] .colab-df-quickchart {\n",
              "      --bg-color: #3B4455;\n",
              "      --fill-color: #D2E3FC;\n",
              "      --hover-bg-color: #434B5C;\n",
              "      --hover-fill-color: #FFFFFF;\n",
              "      --disabled-bg-color: #3B4455;\n",
              "      --disabled-fill-color: #666;\n",
              "  }\n",
              "\n",
              "  .colab-df-quickchart {\n",
              "    background-color: var(--bg-color);\n",
              "    border: none;\n",
              "    border-radius: 50%;\n",
              "    cursor: pointer;\n",
              "    display: none;\n",
              "    fill: var(--fill-color);\n",
              "    height: 32px;\n",
              "    padding: 0;\n",
              "    width: 32px;\n",
              "  }\n",
              "\n",
              "  .colab-df-quickchart:hover {\n",
              "    background-color: var(--hover-bg-color);\n",
              "    box-shadow: 0 1px 2px rgba(60, 64, 67, 0.3), 0 1px 3px 1px rgba(60, 64, 67, 0.15);\n",
              "    fill: var(--button-hover-fill-color);\n",
              "  }\n",
              "\n",
              "  .colab-df-quickchart-complete:disabled,\n",
              "  .colab-df-quickchart-complete:disabled:hover {\n",
              "    background-color: var(--disabled-bg-color);\n",
              "    fill: var(--disabled-fill-color);\n",
              "    box-shadow: none;\n",
              "  }\n",
              "\n",
              "  .colab-df-spinner {\n",
              "    border: 2px solid var(--fill-color);\n",
              "    border-color: transparent;\n",
              "    border-bottom-color: var(--fill-color);\n",
              "    animation:\n",
              "      spin 1s steps(1) infinite;\n",
              "  }\n",
              "\n",
              "  @keyframes spin {\n",
              "    0% {\n",
              "      border-color: transparent;\n",
              "      border-bottom-color: var(--fill-color);\n",
              "      border-left-color: var(--fill-color);\n",
              "    }\n",
              "    20% {\n",
              "      border-color: transparent;\n",
              "      border-left-color: var(--fill-color);\n",
              "      border-top-color: var(--fill-color);\n",
              "    }\n",
              "    30% {\n",
              "      border-color: transparent;\n",
              "      border-left-color: var(--fill-color);\n",
              "      border-top-color: var(--fill-color);\n",
              "      border-right-color: var(--fill-color);\n",
              "    }\n",
              "    40% {\n",
              "      border-color: transparent;\n",
              "      border-right-color: var(--fill-color);\n",
              "      border-top-color: var(--fill-color);\n",
              "    }\n",
              "    60% {\n",
              "      border-color: transparent;\n",
              "      border-right-color: var(--fill-color);\n",
              "    }\n",
              "    80% {\n",
              "      border-color: transparent;\n",
              "      border-right-color: var(--fill-color);\n",
              "      border-bottom-color: var(--fill-color);\n",
              "    }\n",
              "    90% {\n",
              "      border-color: transparent;\n",
              "      border-bottom-color: var(--fill-color);\n",
              "    }\n",
              "  }\n",
              "</style>\n",
              "\n",
              "      <script>\n",
              "        async function quickchart(key) {\n",
              "          const quickchartButtonEl =\n",
              "            document.querySelector('#' + key + ' button');\n",
              "          quickchartButtonEl.disabled = true;  // To prevent multiple clicks.\n",
              "          quickchartButtonEl.classList.add('colab-df-spinner');\n",
              "          try {\n",
              "            const charts = await google.colab.kernel.invokeFunction(\n",
              "                'suggestCharts', [key], {});\n",
              "          } catch (error) {\n",
              "            console.error('Error during call to suggestCharts:', error);\n",
              "          }\n",
              "          quickchartButtonEl.classList.remove('colab-df-spinner');\n",
              "          quickchartButtonEl.classList.add('colab-df-quickchart-complete');\n",
              "        }\n",
              "        (() => {\n",
              "          let quickchartButtonEl =\n",
              "            document.querySelector('#df-6f948747-f00e-4727-8a9d-129106085a6f button');\n",
              "          quickchartButtonEl.style.display =\n",
              "            google.colab.kernel.accessAllowed ? 'block' : 'none';\n",
              "        })();\n",
              "      </script>\n",
              "    </div>\n",
              "\n",
              "    </div>\n",
              "  </div>\n"
            ],
            "application/vnd.google.colaboratory.intrinsic+json": {
              "type": "dataframe",
              "variable_name": "mw",
              "summary": "{\n  \"name\": \"mw\",\n  \"rows\": 64,\n  \"fields\": [\n    {\n      \"column\": \"r\",\n      \"properties\": {\n        \"dtype\": \"number\",\n        \"std\": 348.14477313379405,\n        \"min\": 0.01,\n        \"max\": 1682.532,\n        \"num_unique_values\": 64,\n        \"samples\": [\n          131.047,\n          676.172,\n          0.01\n        ],\n        \"semantic_type\": \"\",\n        \"description\": \"\"\n      }\n    },\n    {\n      \"column\": \"v\",\n      \"properties\": {\n        \"dtype\": \"number\",\n        \"std\": 52.1619010436839,\n        \"min\": 93.042,\n        \"max\": 255.3,\n        \"num_unique_values\": 64,\n        \"samples\": [\n          128.756,\n          158.66,\n          119.061\n        ],\n        \"semantic_type\": \"\",\n        \"description\": \"\"\n      }\n    },\n    {\n      \"column\": \"dv\",\n      \"properties\": {\n        \"dtype\": \"number\",\n        \"std\": 41.25528582232519,\n        \"min\": 3.37,\n        \"max\": 165.096,\n        \"num_unique_values\": 64,\n        \"samples\": [\n          88.515,\n          104.697,\n          41.832\n        ],\n        \"semantic_type\": \"\",\n        \"description\": \"\"\n      }\n    },\n    {\n      \"column\": \"err\",\n      \"properties\": {\n        \"dtype\": \"number\",\n        \"std\": 23.51346646625445,\n        \"min\": 0.868,\n        \"max\": 110.484,\n        \"num_unique_values\": 64,\n        \"samples\": [\n          39.433,\n          34.157,\n          32.714\n        ],\n        \"semantic_type\": \"\",\n        \"description\": \"\"\n      }\n    },\n    {\n      \"column\": \"err_tot\",\n      \"properties\": {\n        \"dtype\": \"number\",\n        \"std\": 46.90770278863923,\n        \"min\": 3.7365620562222706,\n        \"max\": 197.2176047314235,\n        \"num_unique_values\": 64,\n        \"samples\": [\n          96.90132462458911,\n          110.12793677355442,\n          53.10482106174542\n        ],\n        \"semantic_type\": \"\",\n        \"description\": \"\"\n      }\n    }\n  ]\n}"
            }
          },
          "metadata": {},
          "execution_count": 157
        }
      ]
    },
    {
      "cell_type": "code",
      "source": [
        "mw.describe()"
      ],
      "metadata": {
        "colab": {
          "base_uri": "https://localhost:8080/",
          "height": 300
        },
        "id": "goDKz_edzuie",
        "outputId": "153bdd9f-6da5-40bb-b2e3-4f0c06f29b7b"
      },
      "execution_count": 158,
      "outputs": [
        {
          "output_type": "execute_result",
          "data": {
            "text/plain": [
              "                 r           v          dv         err     err_tot\n",
              "count    64.000000   64.000000   64.000000   64.000000   64.000000\n",
              "mean    142.281500  187.101219   48.249063   19.003297   52.371692\n",
              "std     348.144773   52.161901   41.255286   23.513466   46.907703\n",
              "min       0.010000   93.042000    3.370000    0.868000    3.736562\n",
              "25%       0.177250  138.676250   12.585500    2.709750   13.190724\n",
              "50%       3.133500  204.576000   35.288500   13.923000   38.696376\n",
              "75%      55.298250  235.920500   68.412750   24.791250   73.655114\n",
              "max    1682.532000  255.300000  165.096000  110.484000  197.217605"
            ],
            "text/html": [
              "\n",
              "  <div id=\"df-11dbfe5b-9c63-4597-8b8d-8311124a1736\" class=\"colab-df-container\">\n",
              "    <div>\n",
              "<style scoped>\n",
              "    .dataframe tbody tr th:only-of-type {\n",
              "        vertical-align: middle;\n",
              "    }\n",
              "\n",
              "    .dataframe tbody tr th {\n",
              "        vertical-align: top;\n",
              "    }\n",
              "\n",
              "    .dataframe thead th {\n",
              "        text-align: right;\n",
              "    }\n",
              "</style>\n",
              "<table border=\"1\" class=\"dataframe\">\n",
              "  <thead>\n",
              "    <tr style=\"text-align: right;\">\n",
              "      <th></th>\n",
              "      <th>r</th>\n",
              "      <th>v</th>\n",
              "      <th>dv</th>\n",
              "      <th>err</th>\n",
              "      <th>err_tot</th>\n",
              "    </tr>\n",
              "  </thead>\n",
              "  <tbody>\n",
              "    <tr>\n",
              "      <th>count</th>\n",
              "      <td>64.000000</td>\n",
              "      <td>64.000000</td>\n",
              "      <td>64.000000</td>\n",
              "      <td>64.000000</td>\n",
              "      <td>64.000000</td>\n",
              "    </tr>\n",
              "    <tr>\n",
              "      <th>mean</th>\n",
              "      <td>142.281500</td>\n",
              "      <td>187.101219</td>\n",
              "      <td>48.249063</td>\n",
              "      <td>19.003297</td>\n",
              "      <td>52.371692</td>\n",
              "    </tr>\n",
              "    <tr>\n",
              "      <th>std</th>\n",
              "      <td>348.144773</td>\n",
              "      <td>52.161901</td>\n",
              "      <td>41.255286</td>\n",
              "      <td>23.513466</td>\n",
              "      <td>46.907703</td>\n",
              "    </tr>\n",
              "    <tr>\n",
              "      <th>min</th>\n",
              "      <td>0.010000</td>\n",
              "      <td>93.042000</td>\n",
              "      <td>3.370000</td>\n",
              "      <td>0.868000</td>\n",
              "      <td>3.736562</td>\n",
              "    </tr>\n",
              "    <tr>\n",
              "      <th>25%</th>\n",
              "      <td>0.177250</td>\n",
              "      <td>138.676250</td>\n",
              "      <td>12.585500</td>\n",
              "      <td>2.709750</td>\n",
              "      <td>13.190724</td>\n",
              "    </tr>\n",
              "    <tr>\n",
              "      <th>50%</th>\n",
              "      <td>3.133500</td>\n",
              "      <td>204.576000</td>\n",
              "      <td>35.288500</td>\n",
              "      <td>13.923000</td>\n",
              "      <td>38.696376</td>\n",
              "    </tr>\n",
              "    <tr>\n",
              "      <th>75%</th>\n",
              "      <td>55.298250</td>\n",
              "      <td>235.920500</td>\n",
              "      <td>68.412750</td>\n",
              "      <td>24.791250</td>\n",
              "      <td>73.655114</td>\n",
              "    </tr>\n",
              "    <tr>\n",
              "      <th>max</th>\n",
              "      <td>1682.532000</td>\n",
              "      <td>255.300000</td>\n",
              "      <td>165.096000</td>\n",
              "      <td>110.484000</td>\n",
              "      <td>197.217605</td>\n",
              "    </tr>\n",
              "  </tbody>\n",
              "</table>\n",
              "</div>\n",
              "    <div class=\"colab-df-buttons\">\n",
              "\n",
              "  <div class=\"colab-df-container\">\n",
              "    <button class=\"colab-df-convert\" onclick=\"convertToInteractive('df-11dbfe5b-9c63-4597-8b8d-8311124a1736')\"\n",
              "            title=\"Convert this dataframe to an interactive table.\"\n",
              "            style=\"display:none;\">\n",
              "\n",
              "  <svg xmlns=\"http://www.w3.org/2000/svg\" height=\"24px\" viewBox=\"0 -960 960 960\">\n",
              "    <path d=\"M120-120v-720h720v720H120Zm60-500h600v-160H180v160Zm220 220h160v-160H400v160Zm0 220h160v-160H400v160ZM180-400h160v-160H180v160Zm440 0h160v-160H620v160ZM180-180h160v-160H180v160Zm440 0h160v-160H620v160Z\"/>\n",
              "  </svg>\n",
              "    </button>\n",
              "\n",
              "  <style>\n",
              "    .colab-df-container {\n",
              "      display:flex;\n",
              "      gap: 12px;\n",
              "    }\n",
              "\n",
              "    .colab-df-convert {\n",
              "      background-color: #E8F0FE;\n",
              "      border: none;\n",
              "      border-radius: 50%;\n",
              "      cursor: pointer;\n",
              "      display: none;\n",
              "      fill: #1967D2;\n",
              "      height: 32px;\n",
              "      padding: 0 0 0 0;\n",
              "      width: 32px;\n",
              "    }\n",
              "\n",
              "    .colab-df-convert:hover {\n",
              "      background-color: #E2EBFA;\n",
              "      box-shadow: 0px 1px 2px rgba(60, 64, 67, 0.3), 0px 1px 3px 1px rgba(60, 64, 67, 0.15);\n",
              "      fill: #174EA6;\n",
              "    }\n",
              "\n",
              "    .colab-df-buttons div {\n",
              "      margin-bottom: 4px;\n",
              "    }\n",
              "\n",
              "    [theme=dark] .colab-df-convert {\n",
              "      background-color: #3B4455;\n",
              "      fill: #D2E3FC;\n",
              "    }\n",
              "\n",
              "    [theme=dark] .colab-df-convert:hover {\n",
              "      background-color: #434B5C;\n",
              "      box-shadow: 0px 1px 3px 1px rgba(0, 0, 0, 0.15);\n",
              "      filter: drop-shadow(0px 1px 2px rgba(0, 0, 0, 0.3));\n",
              "      fill: #FFFFFF;\n",
              "    }\n",
              "  </style>\n",
              "\n",
              "    <script>\n",
              "      const buttonEl =\n",
              "        document.querySelector('#df-11dbfe5b-9c63-4597-8b8d-8311124a1736 button.colab-df-convert');\n",
              "      buttonEl.style.display =\n",
              "        google.colab.kernel.accessAllowed ? 'block' : 'none';\n",
              "\n",
              "      async function convertToInteractive(key) {\n",
              "        const element = document.querySelector('#df-11dbfe5b-9c63-4597-8b8d-8311124a1736');\n",
              "        const dataTable =\n",
              "          await google.colab.kernel.invokeFunction('convertToInteractive',\n",
              "                                                    [key], {});\n",
              "        if (!dataTable) return;\n",
              "\n",
              "        const docLinkHtml = 'Like what you see? Visit the ' +\n",
              "          '<a target=\"_blank\" href=https://colab.research.google.com/notebooks/data_table.ipynb>data table notebook</a>'\n",
              "          + ' to learn more about interactive tables.';\n",
              "        element.innerHTML = '';\n",
              "        dataTable['output_type'] = 'display_data';\n",
              "        await google.colab.output.renderOutput(dataTable, element);\n",
              "        const docLink = document.createElement('div');\n",
              "        docLink.innerHTML = docLinkHtml;\n",
              "        element.appendChild(docLink);\n",
              "      }\n",
              "    </script>\n",
              "  </div>\n",
              "\n",
              "\n",
              "    <div id=\"df-ec0f8bad-30ae-4c2f-adcd-ece4f0453766\">\n",
              "      <button class=\"colab-df-quickchart\" onclick=\"quickchart('df-ec0f8bad-30ae-4c2f-adcd-ece4f0453766')\"\n",
              "                title=\"Suggest charts\"\n",
              "                style=\"display:none;\">\n",
              "\n",
              "<svg xmlns=\"http://www.w3.org/2000/svg\" height=\"24px\"viewBox=\"0 0 24 24\"\n",
              "     width=\"24px\">\n",
              "    <g>\n",
              "        <path d=\"M19 3H5c-1.1 0-2 .9-2 2v14c0 1.1.9 2 2 2h14c1.1 0 2-.9 2-2V5c0-1.1-.9-2-2-2zM9 17H7v-7h2v7zm4 0h-2V7h2v10zm4 0h-2v-4h2v4z\"/>\n",
              "    </g>\n",
              "</svg>\n",
              "      </button>\n",
              "\n",
              "<style>\n",
              "  .colab-df-quickchart {\n",
              "      --bg-color: #E8F0FE;\n",
              "      --fill-color: #1967D2;\n",
              "      --hover-bg-color: #E2EBFA;\n",
              "      --hover-fill-color: #174EA6;\n",
              "      --disabled-fill-color: #AAA;\n",
              "      --disabled-bg-color: #DDD;\n",
              "  }\n",
              "\n",
              "  [theme=dark] .colab-df-quickchart {\n",
              "      --bg-color: #3B4455;\n",
              "      --fill-color: #D2E3FC;\n",
              "      --hover-bg-color: #434B5C;\n",
              "      --hover-fill-color: #FFFFFF;\n",
              "      --disabled-bg-color: #3B4455;\n",
              "      --disabled-fill-color: #666;\n",
              "  }\n",
              "\n",
              "  .colab-df-quickchart {\n",
              "    background-color: var(--bg-color);\n",
              "    border: none;\n",
              "    border-radius: 50%;\n",
              "    cursor: pointer;\n",
              "    display: none;\n",
              "    fill: var(--fill-color);\n",
              "    height: 32px;\n",
              "    padding: 0;\n",
              "    width: 32px;\n",
              "  }\n",
              "\n",
              "  .colab-df-quickchart:hover {\n",
              "    background-color: var(--hover-bg-color);\n",
              "    box-shadow: 0 1px 2px rgba(60, 64, 67, 0.3), 0 1px 3px 1px rgba(60, 64, 67, 0.15);\n",
              "    fill: var(--button-hover-fill-color);\n",
              "  }\n",
              "\n",
              "  .colab-df-quickchart-complete:disabled,\n",
              "  .colab-df-quickchart-complete:disabled:hover {\n",
              "    background-color: var(--disabled-bg-color);\n",
              "    fill: var(--disabled-fill-color);\n",
              "    box-shadow: none;\n",
              "  }\n",
              "\n",
              "  .colab-df-spinner {\n",
              "    border: 2px solid var(--fill-color);\n",
              "    border-color: transparent;\n",
              "    border-bottom-color: var(--fill-color);\n",
              "    animation:\n",
              "      spin 1s steps(1) infinite;\n",
              "  }\n",
              "\n",
              "  @keyframes spin {\n",
              "    0% {\n",
              "      border-color: transparent;\n",
              "      border-bottom-color: var(--fill-color);\n",
              "      border-left-color: var(--fill-color);\n",
              "    }\n",
              "    20% {\n",
              "      border-color: transparent;\n",
              "      border-left-color: var(--fill-color);\n",
              "      border-top-color: var(--fill-color);\n",
              "    }\n",
              "    30% {\n",
              "      border-color: transparent;\n",
              "      border-left-color: var(--fill-color);\n",
              "      border-top-color: var(--fill-color);\n",
              "      border-right-color: var(--fill-color);\n",
              "    }\n",
              "    40% {\n",
              "      border-color: transparent;\n",
              "      border-right-color: var(--fill-color);\n",
              "      border-top-color: var(--fill-color);\n",
              "    }\n",
              "    60% {\n",
              "      border-color: transparent;\n",
              "      border-right-color: var(--fill-color);\n",
              "    }\n",
              "    80% {\n",
              "      border-color: transparent;\n",
              "      border-right-color: var(--fill-color);\n",
              "      border-bottom-color: var(--fill-color);\n",
              "    }\n",
              "    90% {\n",
              "      border-color: transparent;\n",
              "      border-bottom-color: var(--fill-color);\n",
              "    }\n",
              "  }\n",
              "</style>\n",
              "\n",
              "      <script>\n",
              "        async function quickchart(key) {\n",
              "          const quickchartButtonEl =\n",
              "            document.querySelector('#' + key + ' button');\n",
              "          quickchartButtonEl.disabled = true;  // To prevent multiple clicks.\n",
              "          quickchartButtonEl.classList.add('colab-df-spinner');\n",
              "          try {\n",
              "            const charts = await google.colab.kernel.invokeFunction(\n",
              "                'suggestCharts', [key], {});\n",
              "          } catch (error) {\n",
              "            console.error('Error during call to suggestCharts:', error);\n",
              "          }\n",
              "          quickchartButtonEl.classList.remove('colab-df-spinner');\n",
              "          quickchartButtonEl.classList.add('colab-df-quickchart-complete');\n",
              "        }\n",
              "        (() => {\n",
              "          let quickchartButtonEl =\n",
              "            document.querySelector('#df-ec0f8bad-30ae-4c2f-adcd-ece4f0453766 button');\n",
              "          quickchartButtonEl.style.display =\n",
              "            google.colab.kernel.accessAllowed ? 'block' : 'none';\n",
              "        })();\n",
              "      </script>\n",
              "    </div>\n",
              "\n",
              "    </div>\n",
              "  </div>\n"
            ],
            "application/vnd.google.colaboratory.intrinsic+json": {
              "type": "dataframe",
              "summary": "{\n  \"name\": \"mw\",\n  \"rows\": 8,\n  \"fields\": [\n    {\n      \"column\": \"r\",\n      \"properties\": {\n        \"dtype\": \"number\",\n        \"std\": 575.7997058754096,\n        \"min\": 0.01,\n        \"max\": 1682.532,\n        \"num_unique_values\": 8,\n        \"samples\": [\n          142.2815,\n          3.1335,\n          64.0\n        ],\n        \"semantic_type\": \"\",\n        \"description\": \"\"\n      }\n    },\n    {\n      \"column\": \"v\",\n      \"properties\": {\n        \"dtype\": \"number\",\n        \"std\": 78.41992053390165,\n        \"min\": 52.1619010436839,\n        \"max\": 255.3,\n        \"num_unique_values\": 8,\n        \"samples\": [\n          187.10121875,\n          204.576,\n          64.0\n        ],\n        \"semantic_type\": \"\",\n        \"description\": \"\"\n      }\n    },\n    {\n      \"column\": \"dv\",\n      \"properties\": {\n        \"dtype\": \"number\",\n        \"std\": 49.956171694703876,\n        \"min\": 3.37,\n        \"max\": 165.096,\n        \"num_unique_values\": 8,\n        \"samples\": [\n          48.2490625,\n          35.2885,\n          64.0\n        ],\n        \"semantic_type\": \"\",\n        \"description\": \"\"\n      }\n    },\n    {\n      \"column\": \"err\",\n      \"properties\": {\n        \"dtype\": \"number\",\n        \"std\": 37.089048610570984,\n        \"min\": 0.868,\n        \"max\": 110.484,\n        \"num_unique_values\": 8,\n        \"samples\": [\n          19.003296875,\n          13.923,\n          64.0\n        ],\n        \"semantic_type\": \"\",\n        \"description\": \"\"\n      }\n    },\n    {\n      \"column\": \"err_tot\",\n      \"properties\": {\n        \"dtype\": \"number\",\n        \"std\": 59.83228222866599,\n        \"min\": 3.7365620562222706,\n        \"max\": 197.2176047314235,\n        \"num_unique_values\": 8,\n        \"samples\": [\n          52.371692035726596,\n          38.696375755576554,\n          64.0\n        ],\n        \"semantic_type\": \"\",\n        \"description\": \"\"\n      }\n    }\n  ]\n}"
            }
          },
          "metadata": {},
          "execution_count": 158
        }
      ]
    },
    {
      "cell_type": "code",
      "source": [
        "print(\"Median\")\n",
        "display(mw.median())\n",
        "print(\"Mean\")\n",
        "display(mw.mean())\n",
        "print(mw.shape)"
      ],
      "metadata": {
        "colab": {
          "base_uri": "https://localhost:8080/",
          "height": 517
        },
        "id": "hlWA_z9Wz6Q9",
        "outputId": "0718932d-3ec3-4f30-f329-b12b4f315506"
      },
      "execution_count": 159,
      "outputs": [
        {
          "output_type": "stream",
          "name": "stdout",
          "text": [
            "Median\n"
          ]
        },
        {
          "output_type": "display_data",
          "data": {
            "text/plain": [
              "r            3.133500\n",
              "v          204.576000\n",
              "dv          35.288500\n",
              "err         13.923000\n",
              "err_tot     38.696376\n",
              "dtype: float64"
            ],
            "text/html": [
              "<div>\n",
              "<style scoped>\n",
              "    .dataframe tbody tr th:only-of-type {\n",
              "        vertical-align: middle;\n",
              "    }\n",
              "\n",
              "    .dataframe tbody tr th {\n",
              "        vertical-align: top;\n",
              "    }\n",
              "\n",
              "    .dataframe thead th {\n",
              "        text-align: right;\n",
              "    }\n",
              "</style>\n",
              "<table border=\"1\" class=\"dataframe\">\n",
              "  <thead>\n",
              "    <tr style=\"text-align: right;\">\n",
              "      <th></th>\n",
              "      <th>0</th>\n",
              "    </tr>\n",
              "  </thead>\n",
              "  <tbody>\n",
              "    <tr>\n",
              "      <th>r</th>\n",
              "      <td>3.133500</td>\n",
              "    </tr>\n",
              "    <tr>\n",
              "      <th>v</th>\n",
              "      <td>204.576000</td>\n",
              "    </tr>\n",
              "    <tr>\n",
              "      <th>dv</th>\n",
              "      <td>35.288500</td>\n",
              "    </tr>\n",
              "    <tr>\n",
              "      <th>err</th>\n",
              "      <td>13.923000</td>\n",
              "    </tr>\n",
              "    <tr>\n",
              "      <th>err_tot</th>\n",
              "      <td>38.696376</td>\n",
              "    </tr>\n",
              "  </tbody>\n",
              "</table>\n",
              "</div><br><label><b>dtype:</b> float64</label>"
            ]
          },
          "metadata": {}
        },
        {
          "output_type": "stream",
          "name": "stdout",
          "text": [
            "Mean\n"
          ]
        },
        {
          "output_type": "display_data",
          "data": {
            "text/plain": [
              "r          142.281500\n",
              "v          187.101219\n",
              "dv          48.249063\n",
              "err         19.003297\n",
              "err_tot     52.371692\n",
              "dtype: float64"
            ],
            "text/html": [
              "<div>\n",
              "<style scoped>\n",
              "    .dataframe tbody tr th:only-of-type {\n",
              "        vertical-align: middle;\n",
              "    }\n",
              "\n",
              "    .dataframe tbody tr th {\n",
              "        vertical-align: top;\n",
              "    }\n",
              "\n",
              "    .dataframe thead th {\n",
              "        text-align: right;\n",
              "    }\n",
              "</style>\n",
              "<table border=\"1\" class=\"dataframe\">\n",
              "  <thead>\n",
              "    <tr style=\"text-align: right;\">\n",
              "      <th></th>\n",
              "      <th>0</th>\n",
              "    </tr>\n",
              "  </thead>\n",
              "  <tbody>\n",
              "    <tr>\n",
              "      <th>r</th>\n",
              "      <td>142.281500</td>\n",
              "    </tr>\n",
              "    <tr>\n",
              "      <th>v</th>\n",
              "      <td>187.101219</td>\n",
              "    </tr>\n",
              "    <tr>\n",
              "      <th>dv</th>\n",
              "      <td>48.249063</td>\n",
              "    </tr>\n",
              "    <tr>\n",
              "      <th>err</th>\n",
              "      <td>19.003297</td>\n",
              "    </tr>\n",
              "    <tr>\n",
              "      <th>err_tot</th>\n",
              "      <td>52.371692</td>\n",
              "    </tr>\n",
              "  </tbody>\n",
              "</table>\n",
              "</div><br><label><b>dtype:</b> float64</label>"
            ]
          },
          "metadata": {}
        },
        {
          "output_type": "stream",
          "name": "stdout",
          "text": [
            "(64, 5)\n"
          ]
        }
      ]
    },
    {
      "cell_type": "code",
      "source": [
        "#I used gemini to generate this code. My prompt was \"Please generate histograms for each column of the dataframe and include titles and axes labels. \"\n",
        "# Histograms for each column\n",
        "mw.hist(figsize=(10, 8))\n",
        "plt.suptitle('Histograms of MW Data')\n",
        "plt.tight_layout(rect=[0, 0.03, 1, 0.95], pad=1.5)\n",
        "\n",
        "# Add axis labels and units\n",
        "for i, col in enumerate(mw.columns):\n",
        "    plt.subplot(mw.shape[1] // 2 + mw.shape[1] % 2, 2, i + 1)\n",
        "    if col == 'r':\n",
        "        plt.xlabel('Radius (kpc)')\n",
        "        plt.ylabel('Frequency')\n",
        "    elif col == 'v':\n",
        "        plt.xlabel('Velocity (km/s)')\n",
        "        plt.ylabel('Frequency')\n",
        "    elif col == 'dv':\n",
        "        plt.xlabel('Standard Deviation (km/s)')\n",
        "        plt.ylabel('Frequency')\n",
        "    elif col == 'err':\n",
        "        plt.xlabel('Standard Error (km/s)')\n",
        "        plt.ylabel('Frequency')\n",
        "    elif col == 'err_tot':\n",
        "        plt.xlabel('Total Error (km/s)')\n",
        "        plt.ylabel('Frequency')\n",
        "\n",
        "plt.show()"
      ],
      "metadata": {
        "colab": {
          "base_uri": "https://localhost:8080/",
          "height": 795
        },
        "id": "dfbTYl1D0H-L",
        "outputId": "efa2cd6d-f9f2-4508-ac39-3030da8072fd"
      },
      "execution_count": 160,
      "outputs": [
        {
          "output_type": "display_data",
          "data": {
            "text/plain": [
              "<Figure size 1000x800 with 6 Axes>"
            ],
            "image/png": "[encoded data removed]"
          },
          "metadata": {}
        }
      ]
    },
    {
      "cell_type": "markdown",
      "source": [
        "<mark>*Plot Description:* <br>\n",
        "The above plots are histograms for different Milky way data. The distributions include radius (in kpc), velocity (in km/s), stndard deviation of the velocity (in km/s), standard err (in km/s) and total error (in km/s). Since they are histograms they are plotted against their quantity in bins."
      ],
      "metadata": {
        "id": "-OhUlNYYRRBP"
      }
    },
    {
      "cell_type": "code",
      "source": [
        "mwsize = 26.8 * u.kpc\n",
        "mwu = 1.1 * u.kpc\n"
      ],
      "metadata": {
        "id": "u8OMfAIXCQJ4"
      },
      "execution_count": 161,
      "outputs": []
    },
    {
      "cell_type": "code",
      "source": [
        "radminmw = mw[mw[\"r\"] >= (26.8 - 1.1)/2]\n",
        "\n",
        "radminmw.head()\n",
        "print(radminmw.head(1))\n",
        "print(\"The smallest radius is 14.698 and the corresponding velocity is 247.075\")"
      ],
      "metadata": {
        "colab": {
          "base_uri": "https://localhost:8080/"
        },
        "id": "JxWg0PblFB3N",
        "outputId": "bc97f724-a8af-4563-fafc-8ec6a5b44b78"
      },
      "execution_count": 162,
      "outputs": [
        {
          "output_type": "stream",
          "name": "stdout",
          "text": [
            "         r        v      dv    err   err_tot\n",
            "40  14.698  247.075  42.102  4.069  42.29817\n",
            "The smallest radius is 14.698 and the corresponding velocity is 247.075\n"
          ]
        }
      ]
    },
    {
      "cell_type": "code",
      "source": [
        "plotGal(mw, mwsize, \"Figure 3: Milky Way Rotational Curve\", 55)\n",
        "plotGal(mw, mwsize, \"Figure 4: Milky Way Rotational Curve (log scale)\", 55, log=True)"
      ],
      "metadata": {
        "colab": {
          "base_uri": "https://localhost:8080/",
          "height": 931
        },
        "id": "9bOLaW-MFSDu",
        "outputId": "952438d9-aded-47fe-cf57-9ca0d9a4bdb2"
      },
      "execution_count": 163,
      "outputs": [
        {
          "output_type": "display_data",
          "data": {
            "text/plain": [
              "<Figure size 640x480 with 1 Axes>"
            ],
            "image/png": "[encoded data removed]"
          },
          "metadata": {}
        },
        {
          "output_type": "display_data",
          "data": {
            "text/plain": [
              "<Figure size 640x480 with 1 Axes>"
            ],
            "image/png": "[encoded data removed]"
          },
          "metadata": {}
        }
      ]
    },
    {
      "cell_type": "markdown",
      "source": [
        "<mark> **Figure 3, 4** <br>\n",
        "Both figures show the rotational curve of the Milky Way. Figure 3 shows the radius in kpc on the x axis and the velocity in km/s on the y axis. Figure 4 shows the log10 of the radius distribution with the velocity on the x axis distribution, showing more data points. <br>\n",
        "All vertical lines of blue, yellow, green and red are error bars, centered at data points. The blue error bars are the minimum total errors for each velocity at that radius. The yellow, green, and red errorbars are the total error of the velocity at the 1, 2, and 3 multiple of the M31 radius. The black error bars are the standard error of velocity at these specific radii. <br>\n",
        "We can see that there is a significant difference in value when using the standard error comapred to the total error. The standard error is always smaller than the total error in this data. <br>\n",
        "It is important which error statistic to include when doing astronomical data analysis because formulae that involve velocity can vary greatly due to the error statistic selected."
      ],
      "metadata": {
        "id": "h30FoTRFRiid"
      }
    },
    {
      "cell_type": "code",
      "source": [
        "print(vratios(mw, mwsize/2, 1))\n",
        "\n",
        "print(vratios(mw, mwsize/2, 1, err='err'))\n",
        "\n",
        "print(vratios(mw, mwsize/2, 2))\n",
        "\n",
        "print(vratios(mw, mwsize/2, 2, err='err'))\n"
      ],
      "metadata": {
        "colab": {
          "base_uri": "https://localhost:8080/"
        },
        "id": "X4_xxndSSBnj",
        "outputId": "ab60b362-974b-4ff0-a69b-d749ec4fde86"
      },
      "execution_count": 164,
      "outputs": [
        {
          "output_type": "stream",
          "name": "stdout",
          "text": [
            "(1.0, 1.0)\n",
            "(1.0, 1.0, 0.24210723601087217, 1.2421072360108723, 0.7578927639891279, True)\n",
            "(0.6944532488422636, 0.9720327835677426)\n",
            "(0.6944532488422636, 0.9720327835677426, 0.25404906355535883, 0.9485023123976224, 0.4404041852869047, False)\n"
          ]
        }
      ]
    },
    {
      "cell_type": "markdown",
      "source": [
        "### Discuss!\n",
        "<mark>\n",
        "For the milky way, the test fails earlier at 2 times the size of the radius."
      ],
      "metadata": {
        "id": "nJjcTKFCQm_k"
      }
    },
    {
      "cell_type": "markdown",
      "metadata": {
        "run_control": {
          "frozen": false,
          "read_only": false
        },
        "id": "oxQofaCKOdDg"
      },
      "source": [
        "https://en.wikipedia.org/wiki/Milky_Way\n",
        "    "
      ]
    },
    {
      "cell_type": "code",
      "source": [],
      "metadata": {
        "id": "fqlLMTsfQlv1"
      },
      "execution_count": 164,
      "outputs": []
    }
  ]
}