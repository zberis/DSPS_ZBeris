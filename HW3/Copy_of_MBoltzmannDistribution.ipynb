{
  "nbformat": 4,
  "nbformat_minor": 0,
  "metadata": {
    "colab": {
      "provenance": [],
      "include_colab_link": true
    },
    "kernelspec": {
      "display_name": "Python 3",
      "language": "python",
      "name": "python3"
    },
    "language_info": {
      "codemirror_mode": {
        "name": "ipython",
        "version": 3
      },
      "file_extension": ".py",
      "mimetype": "text/x-python",
      "name": "python",
      "nbconvert_exporter": "python",
      "pygments_lexer": "ipython3",
      "version": "3.7.3"
    },
    "latex_envs": {
      "LaTeX_envs_menu_present": true,
      "autoclose": false,
      "autocomplete": true,
      "bibliofile": "biblio.bib",
      "cite_by": "apalike",
      "current_citInitial": 1,
      "eqLabelWithNumbers": true,
      "eqNumInitial": 1,
      "hotkeys": {
        "equation": "Ctrl-E",
        "itemize": "Ctrl-I"
      },
      "labels_anchors": false,
      "latex_user_defs": false,
      "report_style_numbering": false,
      "user_envs_cfg": false
    },
    "nbTranslate": {
      "displayLangs": [
        "*"
      ],
      "hotkey": "alt-t",
      "langInMainMenu": true,
      "sourceLang": "en",
      "targetLang": "fr",
      "useGoogleTranslate": true
    },
    "toc": {
      "base_numbering": 1,
      "nav_menu": {},
      "number_sections": true,
      "sideBar": true,
      "skip_h1_title": false,
      "title_cell": "Table of Contents",
      "title_sidebar": "Contents",
      "toc_cell": false,
      "toc_position": {},
      "toc_section_display": true,
      "toc_window_display": false
    }
  },
  "cells": [
    {
      "cell_type": "markdown",
      "metadata": {
        "id": "view-in-github",
        "colab_type": "text"
      },
      "source": [
        "<a href=\"https://colab.research.google.com/github/zberis/DSPS_ZBeris/blob/main/HW3/Copy_of_MBoltzmannDistribution.ipynb\" target=\"_parent\"><img src=\"https://colab.research.google.com/assets/colab-badge.svg\" alt=\"Open In Colab\"/></a>"
      ]
    },
    {
      "cell_type": "markdown",
      "source": [
        "Me and Alex Bruce worked together. We answered the questions together, talking eachother through it."
      ],
      "metadata": {
        "id": "40X7RqBApUut"
      }
    },
    {
      "cell_type": "markdown",
      "metadata": {
        "ExecuteTime": {
          "end_time": "2019-09-04T04:50:01.872913Z",
          "start_time": "2019-09-04T04:50:01.869703Z"
        },
        "id": "dk3tkh__KvAc"
      },
      "source": [
        " Written by Federica B. Bianco @fedhere\n",
        "UDel DSPS"
      ]
    },
    {
      "cell_type": "code",
      "metadata": {
        "ExecuteTime": {
          "end_time": "2019-09-07T17:36:53.625807Z",
          "start_time": "2019-09-07T17:36:53.393906Z"
        },
        "colab": {
          "base_uri": "https://localhost:8080/"
        },
        "id": "iQaonMUBqtX2",
        "outputId": "763dd851-8c6a-424d-fb30-3185b52c160e"
      },
      "source": [
        "from __future__ import print_function, division\n",
        "import numpy as np\n",
        "import scipy as sp\n",
        "from scipy import stats\n",
        "import pylab as pl\n",
        "%pylab inline\n",
        "\n",
        "plt.rcParams.update({\n",
        "    \"font.family\": \"DejaVu Sans\",  # Other options: \"Arial\", \"sans-serif\"\n",
        "    \"font.size\": 12,\n",
        "    \"axes.labelsize\": 14,\n",
        "    \"axes.titlesize\": 16,\n",
        "    \"xtick.labelsize\": 12,\n",
        "    \"ytick.labelsize\": 12,\n",
        "})\n"
      ],
      "execution_count": 1,
      "outputs": [
        {
          "output_type": "stream",
          "name": "stdout",
          "text": [
            "Populating the interactive namespace from numpy and matplotlib\n"
          ]
        }
      ]
    },
    {
      "cell_type": "markdown",
      "metadata": {
        "id": "zu5QKDi5b7vW"
      },
      "source": [
        "# Homework 1: Maxwell Boltzmann distribution"
      ]
    },
    {
      "cell_type": "markdown",
      "metadata": {
        "id": "ueaB0mHCO_iM"
      },
      "source": [
        "In Physics, statistics can help us describe the macroscopic behavior of a system if we know its microscopic properties in a statistical sense. We cannot know the motion of each molecule in a gas, but we can know the distribution of their velocities and positions.   In the mid to late 1800s, James Clerk Maxwell and Ludwig Boltzmann modeled the *distribution of speed of molecules in a gas*. As you probably know, and can intuitive realize, the speed of the molecules depends on the temperature of the gas, which is a macroscopic property, the velocity of the molecules is different for different gas temperatures. **This distribution of velocities is called the Maxwell-Boltzmann distribution.**\n"
      ]
    },
    {
      "cell_type": "markdown",
      "metadata": {
        "id": "7LpR51uQSvN9"
      },
      "source": [
        "It turns out that the Maxwel-Boltzmann distribution is a special case of the [*Chi distribution*](https://en.wikipedia.org/wiki/Chi_distribution). The parameter that controls the shape of a Chi distribution is called \"degrees of freedom\" and the Maxwel-Boltzmann distribution is a Chi distribution _with 3 degrees of freedom_, and with a scale parameter _a_ corresponding to the temperature in some way.\n"
      ]
    },
    {
      "cell_type": "markdown",
      "metadata": {
        "id": "Pc25lN9SUxQL"
      },
      "source": [
        "Below I have created 3 distributions. Based on the description above\n",
        "\n",
        "\n",
        "# 1) label the axes in the plot"
      ]
    },
    {
      "cell_type": "code",
      "metadata": {
        "ExecuteTime": {
          "end_time": "2019-09-07T17:36:56.493299Z",
          "start_time": "2019-09-07T17:36:56.021862Z"
        },
        "colab": {
          "base_uri": "https://localhost:8080/",
          "height": 475
        },
        "id": "LZm2afzhUwuG",
        "outputId": "0d11b1a2-9164-4817-ba4b-8ac8cf732a39"
      },
      "source": [
        "np.random.randn(123)\n",
        "\n",
        "fig, ax = pl.subplots()\n",
        "for a in [0.2, 0.6, 1.0]:\n",
        "    ax.hist(sp.stats.chi.rvs(df=3, scale=a, size=1000), # could as well be sp.stats.maxwell.rvs(scale=a, size=1000)\n",
        "          bins=np.arange(0,5,0.1)-0.05, alpha=0.7,\n",
        "       label=\"a = %.1f\"%a);\n",
        "\n",
        "pl.legend();\n",
        "\n",
        "# your code to add labels here\n",
        "plt.xlabel(\"speed\")\n",
        "plt.ylabel(\"counts\")"
      ],
      "execution_count": 3,
      "outputs": [
        {
          "output_type": "execute_result",
          "data": {
            "text/plain": [
              "Text(0, 0.5, 'counts')"
            ]
          },
          "metadata": {},
          "execution_count": 3
        },
        {
          "output_type": "display_data",
          "data": {
            "text/plain": [
              "<Figure size 640x480 with 1 Axes>"
            ],
            "image/png": "[encoded data removed]"
          },
          "metadata": {}
        }
      ]
    },
    {
      "cell_type": "markdown",
      "metadata": {
        "id": "MGdILsLAaopl"
      },
      "source": [
        "# 2) knowing that the *scale* parameter $a$  is a function of the temperature  *T*, and that the dependency is to a power 1/2, which is correct:\n",
        "   **$a \\propto \\sqrt{T}$**  or **$a \\propto \\sqrt{1/T}$**?\n",
        "\n",
        "   (in other words, is the dependency on the root of the temperature or on the inverse root of the temperature ?)\n"
      ]
    },
    {
      "cell_type": "markdown",
      "metadata": {
        "id": "vMGhorbvcrFM"
      },
      "source": [
        "Your answer here: The dependency is on the root of the temperature. I got to thi conclusion because for a = 1, we see the fastest speeds, which correspond to a higher temperature, versus for a = 0.2, we see the slowest speeds which correspond to the lowest temperature."
      ]
    },
    {
      "cell_type": "markdown",
      "metadata": {
        "id": "hGeeXYttXLO1"
      },
      "source": [
        "\n",
        "# 3) What is the mean of all three distributions. How does it compare to the most probable molecular speed?\n",
        "From the wikipedia page of the Chi distribution find the formula of the mean of the Chi distribution. The distribution we are using has a scale parameter *a* in addition to the number of degrees of freedom. The mean scales linearly with this parameter:\n",
        "\n",
        "$\\mu_{\\mathrm{MB}, k, a} = a \\cdot \\mu_{\\mathrm{chi}, k}$\n",
        "\n",
        "Using the scipy function ```sp.special.gamma()``` to  calculate the gamma $\\Gamma$ function, and the definition of the mean from the [wikipwdia page of the Chi distribution](https://en.wikipedia.org/wiki/Chi_distribution)\n",
        "**calculate the mean of all three distributions. Compare it with the mean of the empirical distributions I generated in step 1. How does this mean compare to the most probable molecular speed.**\n",
        "(and does it look right based on the plots above?)"
      ]
    },
    {
      "cell_type": "markdown",
      "source": [
        "![image.png](data:image/png;base64,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)"
      ],
      "metadata": {
        "id": "QwCnhUmskDet"
      }
    },
    {
      "cell_type": "code",
      "metadata": {
        "ExecuteTime": {
          "end_time": "2019-09-07T17:36:59.245480Z",
          "start_time": "2019-09-07T17:36:59.243338Z"
        },
        "id": "-8htAA4mRAVa",
        "colab": {
          "base_uri": "https://localhost:8080/"
        },
        "outputId": "7ed5e8bf-7138-4d15-d5ab-1874a5a8ed1f"
      },
      "source": [
        "# your code here\n",
        "np.random.randn(123)\n",
        "\n",
        "mean = (2**(1/2))*(sp.special.gamma(2))/(sp.special.gamma(3/2))\n",
        "mean2 = mean * 0.2\n",
        "mean6 = mean * 0.6\n",
        "\n",
        "distmean2 = np.mean(sp.stats.chi.rvs(df=3, scale=0.2, size=1000))\n",
        "distmean6 = np.mean(sp.stats.chi.rvs(df=3, scale=0.6, size=1000))\n",
        "distmean1 = np.mean(sp.stats.chi.rvs(df=3, scale=1.0, size=1000))\n",
        "\n",
        "percdif1 = abs((mean - distmean1)/mean *100)\n",
        "percdif2 = abs((mean2 - distmean2)/mean2 *100)\n",
        "percdif6 = abs((mean6 - distmean6)/mean6 *100)\n",
        "\n",
        "print(\"The mean of distribution a = 0.2 is\" , mean2,\". The mean of the empirical distribution a = .2 was\" , distmean2, \". The percent difference is \", percdif2, \"%\")\n",
        "print(\"The mean of distribution a = 0.6 is\" , mean6,\". The mean of the empirical distribution a = .6 was\" , distmean6, \". The percent difference is \", percdif6, \"%\")\n",
        "print(\"The mean of distribution a = 1.0 is\" , mean,\". The mean of the empirical distribution a 1.0 was\" , distmean1, \". The percent difference is \", percdif1, \"%\")\n"
      ],
      "execution_count": 22,
      "outputs": [
        {
          "output_type": "stream",
          "name": "stdout",
          "text": [
            "The mean of distribution a = 0.2 is 0.31915382432114625 . The mean of the empirical distribution a = .2 was 0.32069635346589986 . The percent difference is  0.4833183960852225 %\n",
            "The mean of distribution a = 0.6 is 0.9574614729634385 . The mean of the empirical distribution a = .6 was 0.965408379901014 . The percent difference is  0.8299975677328326 %\n",
            "The mean of distribution a = 1.0 is 1.595769121605731 . The mean of the empirical distribution a 1.0 was 1.6056145893503164 . The percent difference is  0.616973195638631 %\n"
          ]
        }
      ]
    },
    {
      "cell_type": "markdown",
      "metadata": {
        "id": "r7oes80EQER-"
      },
      "source": [
        "This really only holds for perfect gasses, which means under 4 assumptions:\n",
        "- the diameter of the molecules is much smaller than the distance between them\n",
        "- the collisions between molecules conserve energy\n",
        "- the molecules do not interact between collisions and are not subject to any other forces (move at constant speed in a straight line)\n",
        "- the initial position and velocity are random."
      ]
    },
    {
      "cell_type": "markdown",
      "metadata": {
        "id": "3PJ9hjLzQjyA"
      },
      "source": [
        "# Extra Credit:\n",
        "\n",
        "can you create a python (2D) simulation where the molecules behave as describe and calculate their speed evolution from an initial speed that is gaussian distributed? (rather hard!!)\n"
      ]
    },
    {
      "cell_type": "code",
      "source": [],
      "metadata": {
        "id": "xK8fnMejisAl"
      },
      "execution_count": null,
      "outputs": []
    }
  ]
}