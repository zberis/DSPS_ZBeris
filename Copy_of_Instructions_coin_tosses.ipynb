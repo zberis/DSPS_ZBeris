{
  "nbformat": 4,
  "nbformat_minor": 0,
  "metadata": {
    "colab": {
      "provenance": [],
      "include_colab_link": true
    },
    "kernelspec": {
      "name": "python3",
      "display_name": "Python 3"
    },
    "language_info": {
      "name": "python"
    }
  },
  "cells": [
    {
      "cell_type": "markdown",
      "metadata": {
        "id": "view-in-github",
        "colab_type": "text"
      },
      "source": [
        "<a href=\"https://colab.research.google.com/github/zberis/DSPS_ZBeris/blob/main/Copy_of_Instructions_coin_tosses.ipynb\" target=\"_parent\"><img src=\"https://colab.research.google.com/assets/colab-badge.svg\" alt=\"Open In Colab\"/></a>"
      ]
    },
    {
      "cell_type": "code",
      "execution_count": 18,
      "metadata": {
        "id": "jrrkXl4JWgBq"
      },
      "outputs": [],
      "source": [
        "#imports here\n",
        "import numpy as np\n",
        "import matplotlib.pylab as plt\n",
        "import scipy as sp"
      ]
    },
    {
      "cell_type": "code",
      "source": [
        "np.random.rand()"
      ],
      "metadata": {
        "colab": {
          "base_uri": "https://localhost:8080/"
        },
        "id": "WQFrEHr6bIiH",
        "outputId": "92d215c3-37e2-4186-9f49-4e48fb3e7c7f"
      },
      "execution_count": 19,
      "outputs": [
        {
          "output_type": "execute_result",
          "data": {
            "text/plain": [
              "0.5907937489659474"
            ]
          },
          "metadata": {},
          "execution_count": 19
        }
      ]
    },
    {
      "cell_type": "code",
      "source": [
        "from typing import Container\n",
        "# get 10 coin tosses with the numpy.random.rand function, make a histogram\n",
        "np.random.seed(6220)\n",
        "cointainer = []\n",
        "N = 10\n",
        "for i in range(N):\n",
        "  cointainer.append(np.round(np.random.rand()))\n",
        "\n",
        "cointainer"
      ],
      "metadata": {
        "colab": {
          "base_uri": "https://localhost:8080/"
        },
        "id": "7zyVZ9c8Wwqn",
        "outputId": "4b134baa-5e73-47ee-828d-f2742c0e3d91",
        "collapsed": true
      },
      "execution_count": 20,
      "outputs": [
        {
          "output_type": "execute_result",
          "data": {
            "text/plain": [
              "[np.float64(1.0),\n",
              " np.float64(0.0),\n",
              " np.float64(0.0),\n",
              " np.float64(1.0),\n",
              " np.float64(1.0),\n",
              " np.float64(1.0),\n",
              " np.float64(0.0),\n",
              " np.float64(1.0),\n",
              " np.float64(0.0),\n",
              " np.float64(0.0)]"
            ]
          },
          "metadata": {},
          "execution_count": 20
        }
      ]
    },
    {
      "cell_type": "code",
      "source": [
        "plt.hist(cointainer, bins=[-0.1, 0.1,0.9,1.1]);"
      ],
      "metadata": {
        "colab": {
          "base_uri": "https://localhost:8080/",
          "height": 430
        },
        "id": "8T2bntfXb89d",
        "outputId": "acbb99e1-0298-46b6-806a-3ade6cab2583"
      },
      "execution_count": 21,
      "outputs": [
        {
          "output_type": "display_data",
          "data": {
            "text/plain": [
              "<Figure size 640x480 with 1 Axes>"
            ],
            "image/png": "[encoded data removed]"
          },
          "metadata": {}
        }
      ]
    },
    {
      "cell_type": "markdown",
      "source": [
        "P(H) =\n"
      ],
      "metadata": {
        "id": "PVFLWuGXW7EX"
      }
    },
    {
      "cell_type": "markdown",
      "source": [
        "P(HH) ="
      ],
      "metadata": {
        "id": "kfQ33_OGb6qU"
      }
    },
    {
      "cell_type": "markdown",
      "source": [
        "P(HHT) ="
      ],
      "metadata": {
        "id": "SOa00R_kb-f7"
      }
    },
    {
      "cell_type": "markdown",
      "source": [
        "P(2H & 1T) =  "
      ],
      "metadata": {
        "id": "KDQGdVzucDtB"
      }
    },
    {
      "cell_type": "markdown",
      "source": [
        "$P(N_H; N_T) = P(H)^{N_H} * P(T)^{N_T} * {N_H + N_T \\choose  N_H} $"
      ],
      "metadata": {
        "id": "k34F3UhJcUeg"
      }
    },
    {
      "cell_type": "code",
      "source": [
        "from math import comb\n",
        "P_2H_8T = ...\n",
        "print(f\"the probability of 2H and 8T is {P_2H_8T}\")"
      ],
      "metadata": {
        "colab": {
          "base_uri": "https://localhost:8080/"
        },
        "id": "yLmXRnEmdBTR",
        "outputId": "e90d1cff-3065-4933-cbe4-93108eb4c5e7",
        "collapsed": true
      },
      "execution_count": null,
      "outputs": [
        {
          "output_type": "stream",
          "name": "stdout",
          "text": [
            "the probability of 2H and 8T is 0.0439453125\n"
          ]
        }
      ]
    },
    {
      "cell_type": "markdown",
      "source": [
        "# Fair coin"
      ],
      "metadata": {
        "id": "6LYcQ_0OG_6R"
      }
    },
    {
      "cell_type": "markdown",
      "source": [
        "The binomial distribution is the distribution that described the probability of getting outcome X $N$ times out of $M$ trials for a 2-outcome experiments with each trial with the same probability P(X).\n",
        "\n",
        "Now show binomial distribution for 30 coin tosses of a _fair_ coin."
      ],
      "metadata": {
        "id": "VztqKvMNGYVf"
      }
    },
    {
      "cell_type": "code",
      "source": [
        "sp.stats.binom?"
      ],
      "metadata": {
        "id": "X1CThyEadTSe"
      },
      "execution_count": 23,
      "outputs": []
    },
    {
      "cell_type": "code",
      "source": [
        "support = np.arange(0, 30)\n",
        "plt.plot(support, sp.stats.binom.pmf(support, 30, 0.5));\n",
        "plt.xlabel(\"number of heads in 30 draws\")\n",
        "plt.ylabel(\"probability\");"
      ],
      "metadata": {
        "id": "sC1PqKyVdV1h",
        "colab": {
          "base_uri": "https://localhost:8080/",
          "height": 449
        },
        "outputId": "a3feb881-36b6-4b91-a9f1-0a62086b82d1"
      },
      "execution_count": 28,
      "outputs": [
        {
          "output_type": "display_data",
          "data": {
            "text/plain": [
              "<Figure size 640x480 with 1 Axes>"
            ],
            "image/png": "[encoded data removed]"
          },
          "metadata": {}
        }
      ]
    },
    {
      "cell_type": "markdown",
      "source": [
        "# vegas coin\n",
        "lets weight the coin toward tail (by 30%) and show the binomial distribution of probabilities"
      ],
      "metadata": {
        "id": "3iJpsNq-i5QB"
      }
    },
    {
      "cell_type": "code",
      "source": [],
      "metadata": {
        "id": "Id2QkVf0SywC"
      },
      "execution_count": null,
      "outputs": []
    },
    {
      "cell_type": "markdown",
      "source": [
        "Now get 10 draws from the same probability distributin, plot the histogram of outcomes, and compare it to the _theoretical_ binomial probability distributions"
      ],
      "metadata": {
        "id": "aIh8P2ryHJtI"
      }
    },
    {
      "cell_type": "code",
      "source": [
        "...\n",
        "draws = sp.stats.binom.rvs(30, 0.5, size=10000)\n",
        "plt.hist(draws, density=True);\n",
        "plt.plot(support, sp.stats.binom.pmf(support, 30, 0.5));\n",
        "plt.xlabel(\"number of heads in 30 draws\")\n",
        "plt.ylabel(\"frequency\");"
      ],
      "metadata": {
        "id": "lrPDXfJGjU5Y",
        "colab": {
          "base_uri": "https://localhost:8080/",
          "height": 449
        },
        "outputId": "fee6e868-6df9-4e9f-a1f6-4ea1db1fd63e"
      },
      "execution_count": 37,
      "outputs": [
        {
          "output_type": "display_data",
          "data": {
            "text/plain": [
              "<Figure size 640x480 with 1 Axes>"
            ],
            "image/png": "[encoded data removed]"
          },
          "metadata": {}
        }
      ]
    },
    {
      "cell_type": "code",
      "source": [
        "#Do it for a sample of 100\n",
        "...\n",
        "plt.xlabel(\"number of heads in 30 draws\")\n",
        "plt.ylabel(\"frequency\");"
      ],
      "metadata": {
        "id": "06zOgHwtkyuH"
      },
      "execution_count": null,
      "outputs": []
    },
    {
      "cell_type": "code",
      "source": [
        "#Do it for a sample of 1000\n",
        "...\n",
        "plt.xlabel(\"number of heads in 30 draws\")\n",
        "plt.ylabel(\"frequency\");"
      ],
      "metadata": {
        "id": "3I43tOb-eamb"
      },
      "execution_count": null,
      "outputs": []
    },
    {
      "cell_type": "markdown",
      "source": [
        "now do it for the vegas coin we used before"
      ],
      "metadata": {
        "id": "jlzzTz5bHxG5"
      }
    },
    {
      "cell_type": "code",
      "source": [
        "#vegas coin\n",
        "#Do it for a sample of 1000\n",
        "\n",
        "...\n",
        "plt.xlabel(\"number of heads in 30 draws\")\n",
        "plt.ylabel(\"frequency\");"
      ],
      "metadata": {
        "id": "2meFg1s1S8aZ"
      },
      "execution_count": null,
      "outputs": []
    },
    {
      "cell_type": "code",
      "source": [
        "# we can also do it the hacky way if we dont know or want to use a package with a fundtion that is under the hood and we dont see\n",
        "cointoss = np.zeros(10_000)\n",
        "for i in range(10_000):\n",
        "  cointoss[i] = np.round(np.random.rand(30)).sum()\n",
        "\n",
        "plt.hist(cointoss, bins=np.arange(-0.5,30), density=True);\n",
        "#cointoss\n",
        "plt.ylabel(\"frequency\")\n",
        "plt.xlabel(\"number of heads in 30 draws\");\n"
      ],
      "metadata": {
        "id": "RLcD1zuQdscF"
      },
      "execution_count": null,
      "outputs": []
    },
    {
      "cell_type": "code",
      "source": [
        "print(plt.hist(cointoss, bins=np.arange(-0.5,30), density=True)[0].sum())\n",
        "plt.plot(support, sp.stats.binom.pmf(support, 30, 0.5));\n",
        "\n",
        "plt.xlabel(\"number of heads in 30 draws\")\n",
        "plt.ylabel(\"probability\");"
      ],
      "metadata": {
        "id": "shT8L6iHgPLj"
      },
      "execution_count": null,
      "outputs": []
    },
    {
      "cell_type": "markdown",
      "source": [
        "# BAYESIAN PROBABILITY\n",
        "add a prior : you are in vegas and you are sure you are going to get tricked - assume your coin has 0 probability to get heads"
      ],
      "metadata": {
        "id": "KRH_6nw1IBaP"
      }
    },
    {
      "cell_type": "code",
      "source": [
        "#0 probability of getting heads=1, 100% probability of getting tails...\n",
        "plt.plot(x, prior, label=\"prior\")\n",
        "plt.xlabel(\"probability of H\")\n",
        "plt.yticks([0, 1], [\"head\", \"tail\"]);"
      ],
      "metadata": {
        "id": "SvbIYLSFkaBi"
      },
      "execution_count": null,
      "outputs": []
    },
    {
      "cell_type": "code",
      "source": [
        "#BAYES THEOREM:\n",
        "#Posterior = likelihood * prior / evidence ~ likelihood * priori\n",
        "x = np.linspace(0.0, 1, 100)\n",
        "likelihood = sp.stats.binom.pmf((x * 100).astype(int), 100, 0.5)\n",
        "posterior = ...\n",
        "plt.plot(x, posterior, label=\"unnormalized probability\")\n",
        "plt.xlabel(\"probability of H\")\n",
        "plt.legend();\n",
        "plt.yticks([]);"
      ],
      "metadata": {
        "id": "nDzPDWl8nB5x"
      },
      "execution_count": null,
      "outputs": []
    },
    {
      "cell_type": "code",
      "source": [
        "#try a continuous, never 0 prior\n",
        "prior = ...\n",
        "plt.plot(x, prior, label=\"prior\")\n",
        "plt.xlabel(\"probability of H\")\n",
        "plt.legend();\n",
        "plt.yticks([]);\n"
      ],
      "metadata": {
        "id": "kl3D61USnCxG"
      },
      "execution_count": null,
      "outputs": []
    },
    {
      "cell_type": "code",
      "source": [
        "posterior = ...\n",
        "plt.plot(x, posterior, label=\"unnormalized posterior unfair coin\")\n",
        "plt.plot(x, sp.stats.binom.pmf((x * 100).astype(int), 100, 0.5) / 3.45, label=\"fair coin\")\n",
        "plt.xlabel(\"probability of H\")\n",
        "plt.legend();\n",
        "plt.yticks([]);"
      ],
      "metadata": {
        "id": "iXKiafmonLuO"
      },
      "execution_count": null,
      "outputs": []
    },
    {
      "cell_type": "code",
      "source": [],
      "metadata": {
        "id": "3jNyhVsbnL-k"
      },
      "execution_count": null,
      "outputs": []
    }
  ]
}