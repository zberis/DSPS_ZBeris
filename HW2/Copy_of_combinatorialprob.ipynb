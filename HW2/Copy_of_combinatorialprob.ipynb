{
  "nbformat": 4,
  "nbformat_minor": 0,
  "metadata": {
    "colab": {
      "provenance": [],
      "include_colab_link": true
    },
    "kernelspec": {
      "name": "python3",
      "display_name": "Python 3"
    },
    "language_info": {
      "name": "python"
    }
  },
  "cells": [
    {
      "cell_type": "markdown",
      "metadata": {
        "id": "view-in-github",
        "colab_type": "text"
      },
      "source": [
        "<a href=\"https://colab.research.google.com/github/zberis/DSPS_ZBeris/blob/main/HW2/Copy_of_combinatorialprob.ipynb\" target=\"_parent\"><img src=\"https://colab.research.google.com/assets/colab-badge.svg\" alt=\"Open In Colab\"/></a>"
      ]
    },
    {
      "cell_type": "markdown",
      "source": [
        "# I Worked with Katie Moses, Alex Bruce and TJ Tomaszewski"
      ],
      "metadata": {
        "id": "0fBSNNU1uIhd"
      }
    },
    {
      "cell_type": "markdown",
      "source": [
        "# PROBABILITY AND COMBINATORIAL MATH\n",
        "# ANSWER ALL QUESTIONS BELOW"
      ],
      "metadata": {
        "id": "oVVl2Ho8DMPP"
      }
    },
    {
      "cell_type": "code",
      "execution_count": 1,
      "metadata": {
        "id": "uLxenWwnvmQ2"
      },
      "outputs": [],
      "source": [
        "import numpy as np"
      ]
    },
    {
      "cell_type": "code",
      "source": [
        "!wget https://raw.githubusercontent.com/fedhere/DSPS_FBianco/refs/heads/main/.code/checkanswers1.py"
      ],
      "metadata": {
        "id": "YldnMu9Tv_xh",
        "colab": {
          "base_uri": "https://localhost:8080/"
        },
        "outputId": "3f23a0e6-a58f-42e8-a156-ff44bcef3c9c"
      },
      "execution_count": 2,
      "outputs": [
        {
          "output_type": "stream",
          "name": "stdout",
          "text": [
            "--2025-09-08 17:28:34--  https://raw.githubusercontent.com/fedhere/DSPS_FBianco/refs/heads/main/.code/checkanswers1.py\n",
            "Resolving raw.githubusercontent.com (raw.githubusercontent.com)... 185.199.108.133, 185.199.109.133, 185.199.110.133, ...\n",
            "Connecting to raw.githubusercontent.com (raw.githubusercontent.com)|185.199.108.133|:443... connected.\n",
            "HTTP request sent, awaiting response... 200 OK\n",
            "Length: 577 [text/plain]\n",
            "Saving to: ‘checkanswers1.py’\n",
            "\n",
            "\rcheckanswers1.py      0%[                    ]       0  --.-KB/s               \rcheckanswers1.py    100%[===================>]     577  --.-KB/s    in 0s      \n",
            "\n",
            "2025-09-08 17:28:34 (20.1 MB/s) - ‘checkanswers1.py’ saved [577/577]\n",
            "\n"
          ]
        }
      ]
    },
    {
      "cell_type": "code",
      "source": [
        "from checkanswers1 import *"
      ],
      "metadata": {
        "id": "51ZbhBlJwD7Y"
      },
      "execution_count": 3,
      "outputs": []
    },
    {
      "cell_type": "markdown",
      "source": [
        "# Independent"
      ],
      "metadata": {
        "id": "lnXwG2X6vqQJ"
      }
    },
    {
      "cell_type": "markdown",
      "source": [
        "A and B are **indipendent** outcomes. Answer the following questions"
      ],
      "metadata": {
        "id": "pIa3AACMx17V"
      }
    },
    {
      "cell_type": "code",
      "source": [
        "P_A = 0.5\n",
        "P_B = 0.3"
      ],
      "metadata": {
        "id": "RaHOb4l3vtOB"
      },
      "execution_count": 4,
      "outputs": []
    },
    {
      "cell_type": "markdown",
      "source": [
        "**Q1: What is the intecept of P(A) and P(B) $P(A)\\cap P(B)$ (or P(A) AND P(B)**"
      ],
      "metadata": {
        "id": "k1w-aSQryEW0"
      }
    },
    {
      "cell_type": "code",
      "source": [
        "# fill in this cell\n",
        "P_A_intercept_B = 0\n",
        "print(P_A_intercept_B)"
      ],
      "metadata": {
        "id": "p8Th4yiczTzX",
        "colab": {
          "base_uri": "https://localhost:8080/"
        },
        "outputId": "3ca3a3df-2346-4e79-ed70-c5c9ab3d47dc"
      },
      "execution_count": 17,
      "outputs": [
        {
          "output_type": "stream",
          "name": "stdout",
          "text": [
            "0\n"
          ]
        }
      ]
    },
    {
      "cell_type": "markdown",
      "source": [
        "Continue to assuming that A and B are independent.\n",
        "\n",
        "**Q2: what is the probability of getting either A OR B in a draw**"
      ],
      "metadata": {
        "id": "-G_pD66L5D-N"
      }
    },
    {
      "cell_type": "code",
      "source": [
        "# fill in this cell with an equation using no hard coded numbers but the variables P_A and P_B\n",
        "P_A_or_B = P_A + P_B\n",
        "print(P_A_or_B)"
      ],
      "metadata": {
        "id": "pgWW0AyOwrJx",
        "colab": {
          "base_uri": "https://localhost:8080/"
        },
        "outputId": "3b3061df-e93b-4e0d-83d7-a1c1366bd72a"
      },
      "execution_count": 18,
      "outputs": [
        {
          "output_type": "stream",
          "name": "stdout",
          "text": [
            "0.8\n"
          ]
        }
      ]
    },
    {
      "cell_type": "markdown",
      "source": [
        "Continue to assuming that A and B are independent.\n",
        "\n",
        "**Q3: what is the probability of A AND B as the two outcomes of two independent draws**"
      ],
      "metadata": {
        "id": "0zv5M1nny-7g"
      }
    },
    {
      "cell_type": "code",
      "source": [
        "# fill in this cell with an equation using no hard coded numbers but the variables P_A and P_B\n",
        "P_A_and_B = P_A * P_B\n",
        "print(P_A_and_B)"
      ],
      "metadata": {
        "id": "rNYaOGD3vxv3",
        "colab": {
          "base_uri": "https://localhost:8080/"
        },
        "outputId": "9e2d9b0c-abed-43fc-e9ed-3f79b162579b"
      },
      "execution_count": 19,
      "outputs": [
        {
          "output_type": "stream",
          "name": "stdout",
          "text": [
            "0.15\n"
          ]
        }
      ]
    },
    {
      "cell_type": "markdown",
      "source": [
        "Continue to assuming A and B are independent.\n",
        "\n",
        "**Q4: what is the $P(A|B)$ probability of A GIVEN B (i.e. probability that given that I drew B first, now I will draw A)**"
      ],
      "metadata": {
        "id": "BnV03j7_Byag"
      }
    },
    {
      "cell_type": "code",
      "source": [
        "# fill in this cell with an equation using no hard coded numbers but the variables P_A and P_B\n",
        "P_A_given_B = P_A\n",
        "print(P_A_given_B)"
      ],
      "metadata": {
        "id": "UhQ4hcmpCLGa",
        "colab": {
          "base_uri": "https://localhost:8080/"
        },
        "outputId": "fcac5fc4-85e3-48ea-e6fc-227050b95db7"
      },
      "execution_count": 20,
      "outputs": [
        {
          "output_type": "stream",
          "name": "stdout",
          "text": [
            "0.5\n"
          ]
        }
      ]
    },
    {
      "cell_type": "code",
      "source": [
        "#run this cell to see if you got the right answer\n",
        "print(\"Q1 answer\")\n",
        "check_independent_probAND(P_A_and_B)\n",
        "\n",
        "print(\"\\nQ2 answer\")\n",
        "check_independent_probOR(P_A_or_B)\n",
        "\n",
        "print(\"\\nQ3 answer\")\n",
        "check_independent_intersection(P_A_intercept_B)\n",
        "\n",
        "print(\"\\nQ4 answer\")\n",
        "check_independent_probGIVEN(P_A_given_B)"
      ],
      "metadata": {
        "colab": {
          "base_uri": "https://localhost:8080/"
        },
        "id": "XUQ4Gqohv2SC",
        "outputId": "e7d032cb-73b0-4ab9-d9ec-c3fe1880ebd8"
      },
      "execution_count": 21,
      "outputs": [
        {
          "output_type": "stream",
          "name": "stdout",
          "text": [
            "Q1 answer\n",
            "CORRECT\n",
            "\n",
            "Q2 answer\n",
            "CORRECT\n",
            "\n",
            "Q3 answer\n",
            "CORRECT\n",
            "\n",
            "Q4 answer\n",
            "CORRECT\n"
          ]
        }
      ]
    },
    {
      "cell_type": "markdown",
      "source": [
        "# Complement"
      ],
      "metadata": {
        "id": "_miZRCVj52n3"
      }
    },
    {
      "cell_type": "markdown",
      "source": [
        "if AA is the complement of A (normally notiation is $\\bar{A}$)\n",
        "\n",
        "**Q5: what is the probability of A OR AA?**"
      ],
      "metadata": {
        "id": "7nSOE2r-xHKZ"
      }
    },
    {
      "cell_type": "code",
      "source": [
        "P_A_or_AA = 1\n",
        "print(P_A_or_AA)"
      ],
      "metadata": {
        "id": "1QZYBWM-wzoX",
        "colab": {
          "base_uri": "https://localhost:8080/"
        },
        "outputId": "0ddbb161-6c3d-4b9e-e4f0-e51c71a1c03e"
      },
      "execution_count": null,
      "outputs": [
        {
          "output_type": "stream",
          "name": "stdout",
          "text": [
            "1\n"
          ]
        }
      ]
    },
    {
      "cell_type": "markdown",
      "source": [
        "**Q5: what is the probability of A AND AA?**"
      ],
      "metadata": {
        "id": "vA8o4WBADrnS"
      }
    },
    {
      "cell_type": "code",
      "source": [
        "P_A_and_AA = 0\n",
        "print(P_A_and_AA)"
      ],
      "metadata": {
        "id": "hv3h9jkQDq9K",
        "colab": {
          "base_uri": "https://localhost:8080/"
        },
        "outputId": "7c17fa98-4def-4f3d-aece-469d1c8bff19"
      },
      "execution_count": null,
      "outputs": [
        {
          "output_type": "stream",
          "name": "stdout",
          "text": [
            "0\n"
          ]
        }
      ]
    },
    {
      "cell_type": "code",
      "source": [
        "# run this cell\n",
        "check_complement_probOR(P_A_or_AA)\n",
        "check_complement_probAND(P_A_and_AA)"
      ],
      "metadata": {
        "colab": {
          "base_uri": "https://localhost:8080/"
        },
        "collapsed": true,
        "id": "xWjxJyx8xjoJ",
        "outputId": "cf4ec12c-17fe-4909-d5be-257a974e3134"
      },
      "execution_count": null,
      "outputs": [
        {
          "output_type": "stream",
          "name": "stdout",
          "text": [
            "CORRECT\n",
            "CORRECT\n"
          ]
        }
      ]
    },
    {
      "cell_type": "code",
      "source": [],
      "metadata": {
        "id": "p71MbqgOqtlM"
      },
      "execution_count": null,
      "outputs": []
    }
  ]
}